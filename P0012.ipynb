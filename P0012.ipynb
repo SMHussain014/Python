{
 "cells": [
  {
   "attachments": {},
   "cell_type": "markdown",
   "metadata": {},
   "source": [
    "# Dictionary\n",
    "* It is like object in Javascript\n",
    "* It has key-value structure\n",
    "* key can only be str, int and set\n",
    "* value can be of any data type"
   ]
  },
  {
   "cell_type": "code",
   "execution_count": 8,
   "metadata": {},
   "outputs": [
    {
     "name": "stdout",
     "output_type": "stream",
     "text": [
      "{'name': 'Muhammad Hussain', 'fname': 'Zahoor Ahmed', 'education': 'MSDS', 'age': 43}\n",
      "<class 'dict'>\n",
      "4\n",
      "{'age': 43,\n",
      " 'education': 'MSDS',\n",
      " 'fname': 'Zahoor Ahmed',\n",
      " 'name': 'Muhammad Hussain'}\n"
     ]
    }
   ],
   "source": [
    "from typing import Dict, Union, Optional\n",
    "import pprint\n",
    "Key = Union[str, int]\n",
    "Value = Union[str, int, float, bool, list, tuple, dict, set]\n",
    "data: dict[Key, Value] = {\"name\": \"Muhammad Hussain\", \"fname\": \"Zahoor Ahmed\", \"education\": \"MSDS\", \"age\": 43}\n",
    "print(data)\n",
    "print(type(data))\n",
    "print(len(data))\n",
    "pprint.pprint(data)"
   ]
  },
  {
   "attachments": {},
   "cell_type": "markdown",
   "metadata": {},
   "source": [
    "# Set\n",
    "* It returns unique values in order and removes duplication"
   ]
  },
  {
   "cell_type": "code",
   "execution_count": 14,
   "metadata": {},
   "outputs": [
    {
     "name": "stdout",
     "output_type": "stream",
     "text": [
      "{1, 2, 5, 6, 7, 8, 9}\n"
     ]
    }
   ],
   "source": [
    "set_data: set = {1,5,8,7,9,1, 5, 8, 2, 5, 6, 7, 8}\n",
    "print(set_data)"
   ]
  },
  {
   "cell_type": "code",
   "execution_count": 13,
   "metadata": {},
   "outputs": [
    {
     "name": "stdout",
     "output_type": "stream",
     "text": [
      "Muhammad Hussain\n",
      "Zahoor Ahmed\n",
      "MSDS\n",
      "43\n",
      "Pakistan\n"
     ]
    }
   ],
   "source": [
    "data: dict[Key, Value] = {\"name\": \"Muhammad Hussain\", \"fname\": \"Zahoor Ahmed\", \"education\": \"MSDS\", \"age\": 43, 5: \"Pakistan\"}\n",
    "print(data[\"name\"])\n",
    "# print(data.name) will not work\n",
    "print(data[\"fname\"])\n",
    "print(data[\"education\"])\n",
    "print(data[\"age\"])\n",
    "print(data[5])"
   ]
  },
  {
   "attachments": {},
   "cell_type": "markdown",
   "metadata": {},
   "source": [
    "# Type Casting"
   ]
  },
  {
   "cell_type": "code",
   "execution_count": 18,
   "metadata": {},
   "outputs": [
    {
     "name": "stdout",
     "output_type": "stream",
     "text": [
      "{1, 2, 3, 4, 5}\n",
      "<class 'set'>\n",
      "[1, 2, 3, 4, 5]\n",
      "<class 'list'>\n",
      "tuple[{1, 2, 3, 4, 5}]\n",
      "<class 'types.GenericAlias'>\n"
     ]
    }
   ],
   "source": [
    "abc: set = {1, 2, 3, 4, 5}\n",
    "deff: list = list(abc)\n",
    "ghi: tuple = tuple[abc]\n",
    "print(abc)\n",
    "print(type(abc))\n",
    "print(deff)\n",
    "print(type(deff))\n",
    "print(ghi)\n",
    "print(type(ghi))"
   ]
  },
  {
   "cell_type": "code",
   "execution_count": 21,
   "metadata": {},
   "outputs": [
    {
     "name": "stdout",
     "output_type": "stream",
     "text": [
      "{}\n",
      "{'name': 'Syed Muhammad Hussain', 'fname': 'Syed Zahoor Ahmed', 'age': 43, 'qualification': 'B.Sc.'}\n",
      "{'name': 'Syed Muhammad Hussain', 'fname': 'Syed Zahoor Ahmed', 'age': 43, 'qualification': 'MSDS'}\n"
     ]
    }
   ],
   "source": [
    "raw_data: dict[Key, Value] = {}\n",
    "print(raw_data)\n",
    "raw_data['name'] = \"Syed Muhammad Hussain\"\n",
    "raw_data['fname'] = \"Syed Zahoor Ahmed\"\n",
    "raw_data['age'] = 43\n",
    "raw_data['qualification'] = \"B.Sc.\"\n",
    "print(raw_data)\n",
    "raw_data['qualification'] = \"MSDS\"\n",
    "print(raw_data)"
   ]
  },
  {
   "cell_type": "code",
   "execution_count": 29,
   "metadata": {},
   "outputs": [
    {
     "name": "stdout",
     "output_type": "stream",
     "text": [
      "Not Available\n",
      "Muhammad Hussain\n"
     ]
    }
   ],
   "source": [
    "data: dict[Key, Value] = {\"name\": \"Muhammad Hussain\", \"fname\": \"Zahoor Ahmed\", \"education\": \"MSDS\", \"age\": 43, 5: \"Pakistan\"}\n",
    "print(data.get(\"Pakistan\", \"Not Available\"))\n",
    "print(data.get(\"name\", \"Not Available\"))"
   ]
  },
  {
   "cell_type": "code",
   "execution_count": 30,
   "metadata": {},
   "outputs": [
    {
     "name": "stdout",
     "output_type": "stream",
     "text": [
      "dict_keys(['name', 'fname', 'education', 'age', 5])\n",
      "dict_values(['Muhammad Hussain', 'Zahoor Ahmed', 'MSDS', 43, 'Pakistan'])\n",
      "dict_items([('name', 'Muhammad Hussain'), ('fname', 'Zahoor Ahmed'), ('education', 'MSDS'), ('age', 43), (5, 'Pakistan')])\n"
     ]
    }
   ],
   "source": [
    "data: dict[Key, Value] = {\"name\": \"Muhammad Hussain\", \"fname\": \"Zahoor Ahmed\", \"education\": \"MSDS\", \"age\": 43, 5: \"Pakistan\"}\n",
    "print(data.keys())\n",
    "print(data.values())\n",
    "print(data.items())"
   ]
  },
  {
   "cell_type": "code",
   "execution_count": 41,
   "metadata": {},
   "outputs": [
    {
     "name": "stdout",
     "output_type": "stream",
     "text": [
      "name Muhammad Hussain\n",
      "fname Zahoor Ahmed\n",
      "education MSDS\n",
      "age 43\n",
      "5 Pakistan\n"
     ]
    }
   ],
   "source": [
    "data: dict[Key, Value] = {\"name\": \"Muhammad Hussain\", \"fname\": \"Zahoor Ahmed\", \"education\": \"MSDS\", \"age\": 43, 5: \"Pakistan\"}\n",
    "for k in data: # keys\n",
    "    print(k, data[k])"
   ]
  },
  {
   "cell_type": "code",
   "execution_count": 42,
   "metadata": {},
   "outputs": [
    {
     "name": "stdout",
     "output_type": "stream",
     "text": [
      "name\n",
      "fname\n",
      "education\n",
      "age\n",
      "5\n"
     ]
    }
   ],
   "source": [
    "data: dict[Key, Value] = {\"name\": \"Muhammad Hussain\", \"fname\": \"Zahoor Ahmed\", \"education\": \"MSDS\", \"age\": 43, 5: \"Pakistan\"}\n",
    "for k in data.keys():\n",
    "    print(k)"
   ]
  },
  {
   "cell_type": "code",
   "execution_count": 40,
   "metadata": {},
   "outputs": [
    {
     "name": "stdout",
     "output_type": "stream",
     "text": [
      "Muhammad Hussain\n",
      "Zahoor Ahmed\n",
      "MSDS\n",
      "43\n",
      "Pakistan\n"
     ]
    }
   ],
   "source": [
    "data: dict[Key, Value] = {\"name\": \"Muhammad Hussain\", \"fname\": \"Zahoor Ahmed\", \"education\": \"MSDS\", \"age\": 43, 5: \"Pakistan\"}\n",
    "for v in data.values():\n",
    "    print(v)"
   ]
  },
  {
   "cell_type": "code",
   "execution_count": 45,
   "metadata": {},
   "outputs": [
    {
     "name": "stdout",
     "output_type": "stream",
     "text": [
      "name Muhammad Hussain\n",
      "fname Zahoor Ahmed\n",
      "education MSDS\n",
      "age 43\n",
      "5 Pakistan\n"
     ]
    },
    {
     "data": {
      "text/plain": [
       "{('age', 43),\n",
       " ('education', 'MSDS'),\n",
       " ('fname', 'Zahoor Ahmed'),\n",
       " ('name', 'Muhammad Hussain'),\n",
       " (5, 'Pakistan')}"
      ]
     },
     "execution_count": 45,
     "metadata": {},
     "output_type": "execute_result"
    }
   ],
   "source": [
    "data: dict[Key, Value] = {\"name\": \"Muhammad Hussain\", \"fname\": \"Zahoor Ahmed\", \"education\": \"MSDS\", \"age\": 43, 5: \"Pakistan\"}\n",
    "for k, v in data.items():\n",
    "    print(k, v)\n",
    "# comprehension\n",
    "{(k, v) for k, v in data.items()}"
   ]
  },
  {
   "cell_type": "code",
   "execution_count": 47,
   "metadata": {},
   "outputs": [
    {
     "data": {
      "text/plain": [
       "{'name': 'Muhammad Hussain',\n",
       " 'fname': 'Zahoor Ahmed',\n",
       " 'education': 'MSDS',\n",
       " 'age': 43,\n",
       " 5: 'Pakistan'}"
      ]
     },
     "execution_count": 47,
     "metadata": {},
     "output_type": "execute_result"
    }
   ],
   "source": [
    "data: dict[Key, Value] = {\"name\": \"Muhammad Hussain\", \"fname\": \"Zahoor Ahmed\", \"education\": \"MSDS\", \"age\": 43, 5: \"Pakistan\"}\n",
    "# comprehension\n",
    "{k: v for k, v in data.items()}"
   ]
  },
  {
   "cell_type": "code",
   "execution_count": 48,
   "metadata": {},
   "outputs": [
    {
     "data": {
      "text/plain": [
       "{'Muhammad Hussain': 'name',\n",
       " 'Zahoor Ahmed': 'fname',\n",
       " 'MSDS': 'education',\n",
       " 43: 'age',\n",
       " 'Pakistan': 5}"
      ]
     },
     "execution_count": 48,
     "metadata": {},
     "output_type": "execute_result"
    }
   ],
   "source": [
    "data: dict[Key, Value] = {\"name\": \"Muhammad Hussain\", \"fname\": \"Zahoor Ahmed\", \"education\": \"MSDS\", \"age\": 43, 5: \"Pakistan\"}\n",
    "# comprehension\n",
    "{v: k for k, v in data.items()}"
   ]
  },
  {
   "cell_type": "code",
   "execution_count": 49,
   "metadata": {},
   "outputs": [
    {
     "name": "stdout",
     "output_type": "stream",
     "text": [
      "9 7\n",
      "7 9\n"
     ]
    }
   ],
   "source": [
    "a: int = 9\n",
    "b: int = 7\n",
    "print(a, b)\n",
    "a, b = b, a # shuffling\n",
    "print(a, b)"
   ]
  },
  {
   "cell_type": "code",
   "execution_count": 62,
   "metadata": {},
   "outputs": [
    {
     "name": "stdout",
     "output_type": "stream",
     "text": [
      "{}\n",
      "{'id': None, 'name': None, 'fname': None, 'age': None}\n"
     ]
    }
   ],
   "source": [
    "keys: list[str] = ('id', 'name', 'fname', 'age')\n",
    "data1: dict[Key, Value] = {}\n",
    "print(data1)\n",
    "data1 = data1.fromkeys(keys) # inline operation\n",
    "print(data1)"
   ]
  },
  {
   "cell_type": "code",
   "execution_count": 8,
   "metadata": {},
   "outputs": [
    {
     "name": "stdout",
     "output_type": "stream",
     "text": [
      "['clear', 'copy', 'fromkeys', 'get', 'items', 'keys', 'pop', 'popitem', 'setdefault', 'update', 'values']\n"
     ]
    }
   ],
   "source": [
    "from typing import Dict, Union, Optional\n",
    "import pprint\n",
    "Key = Union[str, int]\n",
    "Value = Union[str, int, float, bool, list, tuple, dict, set]\n",
    "data: dict[Key, Value] = {\"name\": \"Muhammad Hussain\", \"fname\": \"Zahoor Ahmed\", \"education\": \"MSDS\", \"age\": 43, 5: \"Pakistan\"}\n",
    "methods : list[str] = [m for m in dir(data) if '__' not in m]\n",
    "print(methods)"
   ]
  },
  {
   "cell_type": "code",
   "execution_count": 11,
   "metadata": {},
   "outputs": [
    {
     "name": "stdout",
     "output_type": "stream",
     "text": [
      "Before: {'name': 'Muhammad Hussain', 'fname': 'Zahoor Ahmed', 'education': 'MSDS', 'age': 43, 5: 'Pakistan'}\n",
      "After: {}\n"
     ]
    }
   ],
   "source": [
    "data: dict[Key, Value] = {\"name\": \"Muhammad Hussain\", \"fname\": \"Zahoor Ahmed\", \"education\": \"MSDS\", \"age\": 43, 5: \"Pakistan\"}\n",
    "print(\"Before:\", data)\n",
    "data.clear()\n",
    "print(\"After:\", data)"
   ]
  },
  {
   "cell_type": "code",
   "execution_count": 12,
   "metadata": {},
   "outputs": [
    {
     "name": "stdout",
     "output_type": "stream",
     "text": [
      "Before: {'name': 'Muhammad Hussain', 'fname': 'Zahoor Ahmed', 'education': 'MSDS', 'age': 43, 5: 'Pakistan'}\n"
     ]
    },
    {
     "ename": "NameError",
     "evalue": "name 'data' is not defined",
     "output_type": "error",
     "traceback": [
      "\u001b[1;31m---------------------------------------------------------------------------\u001b[0m",
      "\u001b[1;31mNameError\u001b[0m                                 Traceback (most recent call last)",
      "Cell \u001b[1;32mIn[12], line 4\u001b[0m\n\u001b[0;32m      2\u001b[0m \u001b[39mprint\u001b[39m(\u001b[39m\"\u001b[39m\u001b[39mBefore:\u001b[39m\u001b[39m\"\u001b[39m, data)\n\u001b[0;32m      3\u001b[0m \u001b[39mdel\u001b[39;00m data\n\u001b[1;32m----> 4\u001b[0m \u001b[39mprint\u001b[39m(\u001b[39m\"\u001b[39m\u001b[39mAfter:\u001b[39m\u001b[39m\"\u001b[39m, data)\n",
      "\u001b[1;31mNameError\u001b[0m: name 'data' is not defined"
     ]
    }
   ],
   "source": [
    "data: dict[Key, Value] = {\"name\": \"Muhammad Hussain\", \"fname\": \"Zahoor Ahmed\", \"education\": \"MSDS\", \"age\": 43, 5: \"Pakistan\"}\n",
    "print(\"Before:\", data)\n",
    "del data\n",
    "print(\"After:\", data)"
   ]
  },
  {
   "cell_type": "code",
   "execution_count": 14,
   "metadata": {},
   "outputs": [
    {
     "name": "stdout",
     "output_type": "stream",
     "text": [
      "Before: {'name': 'Muhammad Hussain', 'fname': 'Zahoor Ahmed', 'education': 'MSDS', 'age': 43, 5: 'Pakistan'}\n",
      "After: {'name': 'Muhammad Hussain', 'fname': 'Zahoor Ahmed', 'education': 'MSDS', 'age': 43}\n"
     ]
    }
   ],
   "source": [
    "data: dict[Key, Value] = {\"name\": \"Muhammad Hussain\", \"fname\": \"Zahoor Ahmed\", \"education\": \"MSDS\", \"age\": 43, 5: \"Pakistan\"}\n",
    "print(\"Before:\", data)\n",
    "data.pop(5)\n",
    "print(\"After:\", data)"
   ]
  },
  {
   "cell_type": "code",
   "execution_count": 15,
   "metadata": {},
   "outputs": [
    {
     "name": "stdout",
     "output_type": "stream",
     "text": [
      "Before: {'name': 'Muhammad Hussain', 'fname': 'Zahoor Ahmed', 'education': 'MSDS', 'age': 43, 5: 'Pakistan'}\n",
      "After: {'name': 'Muhammad Hussain', 'fname': 'Zahoor Ahmed', 'education': 'MSDS', 'age': 43}\n"
     ]
    }
   ],
   "source": [
    "data: dict[Key, Value] = {\"name\": \"Muhammad Hussain\", \"fname\": \"Zahoor Ahmed\", \"education\": \"MSDS\", \"age\": 43, 5: \"Pakistan\"}\n",
    "print(\"Before:\", data)\n",
    "data.popitem()\n",
    "print(\"After:\", data)"
   ]
  },
  {
   "cell_type": "code",
   "execution_count": 16,
   "metadata": {},
   "outputs": [
    {
     "name": "stdout",
     "output_type": "stream",
     "text": [
      "Before: {'name': 'Muhammad Hussain', 'fname': 'Zahoor Ahmed', 'education': 'MSDS', 'age': 43, 5: 'Pakistan'}\n",
      "After: {'name': 'Muhammad Hussain', 'fname': 'Zahoor Ahmed', 'education': 'MSDS', 'age': 43, 5: 'Pakistan', 'Iran': None}\n"
     ]
    }
   ],
   "source": [
    "data: dict[Key, Value] = {\"name\": \"Muhammad Hussain\", \"fname\": \"Zahoor Ahmed\", \"education\": \"MSDS\", \"age\": 43, 5: \"Pakistan\"}\n",
    "print(\"Before:\", data)\n",
    "data.setdefault(\"Iran\")\n",
    "print(\"After:\", data)"
   ]
  },
  {
   "cell_type": "code",
   "execution_count": 19,
   "metadata": {},
   "outputs": [
    {
     "name": "stdout",
     "output_type": "stream",
     "text": [
      "Before: {'name': 'Muhammad Hussain', 'fname': 'Zahoor Ahmed', 'education': 'MSDS', 'age': 43, 5: 'Pakistan'}\n",
      "After: {'name': 'Muhammad Hussain', 'fname': 'Zahoor Ahmed', 'education': 'MSDS', 'age': 43, 5: 'Pakistan', 'Iran': 'Islam'}\n"
     ]
    }
   ],
   "source": [
    "data: dict[Key, Value] = {\"name\": \"Muhammad Hussain\", \"fname\": \"Zahoor Ahmed\", \"education\": \"MSDS\", \"age\": 43, 5: \"Pakistan\"}\n",
    "print(\"Before:\", data)\n",
    "data.setdefault(\"Iran\", \"Islam\")\n",
    "print(\"After:\", data)"
   ]
  },
  {
   "cell_type": "code",
   "execution_count": 23,
   "metadata": {},
   "outputs": [
    {
     "name": "stdout",
     "output_type": "stream",
     "text": [
      "Before: {'name': 'Muhammad Hussain', 'fname': 'Zahoor Ahmed', 'education': 'MSDS', 'age': 43, 5: 'Pakistan'}\n",
      "After: {'name': 'Syed Muhammad Hussain', 'fname': 'Syed Zahoor Ahmed', 'education': 'B.Sc.', 'age': 43, 5: 'Pakistan', 'Country': 'Pakistan'}\n"
     ]
    }
   ],
   "source": [
    "data: dict[Key, Value] = {\"name\": \"Muhammad Hussain\", \"fname\": \"Zahoor Ahmed\", \"education\": \"MSDS\", \"age\": 43, 5: \"Pakistan\"}\n",
    "print(\"Before:\", data)\n",
    "data1: dict[Key, Value] = {\"name\": \"Syed Muhammad Hussain\", \"fname\": \"Syed Zahoor Ahmed\", \"education\": \"B.Sc.\", \"Country\": \"Pakistan\"}\n",
    "data.update(data1)\n",
    "print(\"After:\", data)"
   ]
  },
  {
   "attachments": {},
   "cell_type": "markdown",
   "metadata": {},
   "source": [
    "# Converting dictionary into tabular form and jason"
   ]
  },
  {
   "cell_type": "code",
   "execution_count": 25,
   "metadata": {},
   "outputs": [
    {
     "name": "stdout",
     "output_type": "stream",
     "text": [
      "   Roll No.     Name  Age\n",
      "0         1      Ali   63\n",
      "1         2   Hassan   50\n",
      "2         3  Hussain   60\n"
     ]
    }
   ],
   "source": [
    "import pandas as pd\n",
    "from typing import Any\n",
    "students_data: dict [str, list[Any]] = {\"Roll No.\": [1, 2, 3], \"Name\": [\"Ali\", \"Hassan\", \"Hussain\"],\n",
    "                                        \"Age\": [63, 50, 60]}\n",
    "df: pd.DataFrame = pd.DataFrame(students_data)\n",
    "print(df)"
   ]
  },
  {
   "cell_type": "code",
   "execution_count": 33,
   "metadata": {},
   "outputs": [
    {
     "name": "stdout",
     "output_type": "stream",
     "text": [
      "Before: {'name': 'Muhammad Hussain', 'fname': 'Zahoor Ahmed', 'education': 'MSDS', 'age': 43, 'country': 'Pakistan'}\n",
      "After: {\n",
      "    \"name\": \"Muhammad Hussain\",\n",
      "    \"fname\": \"Zahoor Ahmed\",\n",
      "    \"education\": \"MSDS\",\n",
      "    \"age\": 43,\n",
      "    \"country\": \"Pakistan\"\n",
      "}\n",
      "<class 'str'>\n"
     ]
    }
   ],
   "source": [
    "from typing import Dict, Union, Optional\n",
    "import pprint\n",
    "import json\n",
    "Key = Union[str, int]\n",
    "Value = Union[str, int, float, bool, list, tuple, dict, set]\n",
    "data: dict[Key, Value] = {\"name\": \"Muhammad Hussain\", \"fname\": \"Zahoor Ahmed\", \"education\": \"MSDS\", \"age\": 43, \"country\": \"Pakistan\"}\n",
    "print(\"Before:\", data)\n",
    "data1 = json.dumps(data, indent= 4)\n",
    "print(\"After:\", data1)\n",
    "print(type(data1))"
   ]
  },
  {
   "attachments": {},
   "cell_type": "markdown",
   "metadata": {},
   "source": [
    "# import flask before taking data in json\n"
   ]
  },
  {
   "attachments": {},
   "cell_type": "markdown",
   "metadata": {},
   "source": [
    "* from flask import Flask\n",
    "* from flask import jsonify"
   ]
  }
 ],
 "metadata": {
  "kernelspec": {
   "display_name": "python12",
   "language": "python",
   "name": "python3"
  },
  "language_info": {
   "codemirror_mode": {
    "name": "ipython",
    "version": 3
   },
   "file_extension": ".py",
   "mimetype": "text/x-python",
   "name": "python",
   "nbconvert_exporter": "python",
   "pygments_lexer": "ipython3",
   "version": "3.12.0"
  },
  "orig_nbformat": 4
 },
 "nbformat": 4,
 "nbformat_minor": 2
}
