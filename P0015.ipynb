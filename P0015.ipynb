{
 "cells": [
  {
   "attachments": {},
   "cell_type": "markdown",
   "metadata": {},
   "source": [
    "# Object Oriented Programming\n",
    "## Class\n",
    "* Method - first argument must be additional variable (self, this, or anything else)\n",
    "* Attribute (It connects with individual object)\n",
    "* Class Variable (It is used for all objects) \n",
    "    * To call: class_name.class_variable or obj_name.class_variable\n",
    "* constructor (\"\"\" def __init__ (self, arg1, arg2)\"\"\")"
   ]
  },
  {
   "cell_type": "code",
   "execution_count": 1,
   "metadata": {},
   "outputs": [],
   "source": [
    "class Teacher():\n",
    "    def __init__(self, teacher_id: int, teacher_name: str) -> None:\n",
    "        self.teacher_id: int = teacher_id # self.attribute_name = value\n",
    "        self.teacher_name: str = teacher_name\n",
    "        self.organization_name: str = \"PIAIC\"\n",
    "    def speak(self, words: str) -> None:\n",
    "        print(f\"{self.teacher_name} is speaking {words}.\")\n",
    "    def teach(self, subject: str) -> None:\n",
    "        print(f\"{self.teacher_name} is teaching {subject}.\")"
   ]
  },
  {
   "cell_type": "code",
   "execution_count": 6,
   "metadata": {},
   "outputs": [
    {
     "name": "stdout",
     "output_type": "stream",
     "text": [
      "1\n",
      "Sir Zia\n",
      "PIAIC\n",
      "Sir Zia is teaching Python.\n",
      "2\n",
      "Sir Qasim\n",
      "PIAIC\n",
      "Sir Qasim is speaking about moral value.\n"
     ]
    }
   ],
   "source": [
    "obj1: Teacher = Teacher(1, 'Sir Zia') # obj1 is the instance of Teacher class\n",
    "print(obj1.teacher_id)\n",
    "print(obj1.teacher_name)\n",
    "print(obj1.organization_name)\n",
    "obj1.teach(\"Python\")\n",
    "obj2: Teacher = Teacher(2, 'Sir Qasim')\n",
    "print(obj2.teacher_id)\n",
    "print(obj2.teacher_name)\n",
    "print(obj2.organization_name)\n",
    "obj2.speak(\"about moral value\")"
   ]
  },
  {
   "cell_type": "code",
   "execution_count": 7,
   "metadata": {},
   "outputs": [],
   "source": [
    "''' class declaring '''\n",
    "class Teacher():\n",
    "    ''' class variable making '''\n",
    "    counter: int = 0 # class_variable\n",
    "    help_line: str = '0331-51588855'\n",
    "    ''' constructor making '''\n",
    "    def __init__(self, teacher_id: int, teacher_name: str) -> None:\n",
    "        self.teacher_id: int = teacher_id # self.attribute_name = value\n",
    "        self.teacher_name: str = teacher_name\n",
    "        self.organization_name: str = \"PIAIC\"\n",
    "    ''' method making '''\n",
    "    def speak(self, words: str) -> None:\n",
    "        print(f\"{self.teacher_name} is speaking {words}.\")\n",
    "    def teach(self, subject: str) -> None:\n",
    "        print(f\"{self.teacher_name} is teaching {subject}.\")"
   ]
  },
  {
   "cell_type": "code",
   "execution_count": 11,
   "metadata": {},
   "outputs": [
    {
     "name": "stdout",
     "output_type": "stream",
     "text": [
      "0331-51588855\n",
      "0331-51588855\n",
      "0331-51588855\n"
     ]
    }
   ],
   "source": [
    "obj1: Teacher = Teacher(1, 'Sir Zia')\n",
    "obj2: Teacher = Teacher(2, 'Sir Qasim')\n",
    "print(Teacher.help_line)\n",
    "print(obj1.help_line)\n",
    "print(obj2.help_line)"
   ]
  },
  {
   "cell_type": "code",
   "execution_count": 15,
   "metadata": {},
   "outputs": [],
   "source": [
    "''' class declaring '''\n",
    "class Teacher():\n",
    "    ''' class variable making '''\n",
    "    counter: int = 0 # class_variable\n",
    "    help_line: str = '0331-51588855'\n",
    "    ''' constructor making '''\n",
    "    def __init__(self, teacher_id: int, teacher_name: str) -> None:\n",
    "        self.teacher_id: int = teacher_id # self.attribute_name = value\n",
    "        self.teacher_name: str = teacher_name\n",
    "        self.organization_name: str = \"PIAIC\"\n",
    "        Teacher.counter += 1\n",
    "    ''' method making '''\n",
    "    def speak(self, words: str) -> None:\n",
    "        print(f\"{self.teacher_name} is speaking {words}.\")\n",
    "    def teach(self, subject: str) -> None:\n",
    "        print(f\"{self.teacher_name} is teaching {subject}.\")\n",
    "    def details(self) -> None:\n",
    "        info: str = f\"\"\"Teacher's name is {self.teacher_name},\n",
    "Our contact number is {Teacher.help_line}\n",
    "        \"\"\"\n",
    "        print(info)"
   ]
  },
  {
   "cell_type": "code",
   "execution_count": 19,
   "metadata": {},
   "outputs": [
    {
     "name": "stdout",
     "output_type": "stream",
     "text": [
      "Teacher's name is Sir Zia,\n",
      "Our contact number is 0331-51588855\n",
      "        \n",
      "8 8\n",
      "8 8\n"
     ]
    }
   ],
   "source": [
    "obj1: Teacher = Teacher(1, 'Sir Zia')\n",
    "obj2: Teacher = Teacher(2, 'Sir Qasim')\n",
    "obj1.details()\n",
    "print(Teacher.counter, obj1.counter)\n",
    "print(Teacher.counter, obj2.counter)"
   ]
  },
  {
   "attachments": {},
   "cell_type": "markdown",
   "metadata": {},
   "source": [
    "## Pillars of OOP\n",
    "* Inheritance\n",
    "* Polymorphism\n",
    "* Abstraction\n",
    "* Encapsulation"
   ]
  },
  {
   "cell_type": "code",
   "execution_count": 21,
   "metadata": {},
   "outputs": [
    {
     "name": "stdout",
     "output_type": "stream",
     "text": [
      "Brown\n",
      "Black\n",
      "Parents method speaks: Pakistan.\n",
      "You are watching: TV.\n",
      "Brown\n",
      "Black\n",
      "Parents method speaks: Pakistan and India.\n",
      "You are watching: Computer.\n"
     ]
    }
   ],
   "source": [
    "class Parents():\n",
    "    def __init__(self) -> None:\n",
    "        self.eyes_color: str = \"Brown\"\n",
    "        self.hairs_color: str = \"Black\"\n",
    "    def speak(self, words: str) -> None:\n",
    "        print(f\"Parents method speaks: {words}.\")\n",
    "    def watch(self, object_name: str) -> None:\n",
    "        print(f\"You are watching: {object_name}.\")\n",
    "class Child(Parents): # inheritance\n",
    "    pass\n",
    "obj1: Parents = Parents()\n",
    "print(obj1.eyes_color)\n",
    "print(obj1.hairs_color)\n",
    "obj1.speak('Pakistan')\n",
    "obj1.watch('TV')\n",
    "obj2: Child = Child()\n",
    "print(obj2.eyes_color)\n",
    "print(obj2.hairs_color)\n",
    "obj2.speak('Pakistan and India')\n",
    "obj2.watch('Computer')"
   ]
  },
  {
   "cell_type": "code",
   "execution_count": 23,
   "metadata": {},
   "outputs": [
    {
     "name": "stdout",
     "output_type": "stream",
     "text": [
      "Brown\n",
      "Black\n",
      "Parents method speaks: Pakistan.\n",
      "You are watching: TV.\n",
      "Brown\n",
      "Black\n",
      "Parents method speaks: Pakistan and India.\n",
      "You are watching: Computer.\n",
      "Child method for teaching Python.\n"
     ]
    }
   ],
   "source": [
    "class Parents():\n",
    "    def __init__(self) -> None:\n",
    "        self.eyes_color: str = \"Brown\"\n",
    "        self.hairs_color: str = \"Black\"\n",
    "    def speak(self, words: str) -> None:\n",
    "        print(f\"Parents method speaks: {words}.\")\n",
    "    def watch(self, object_name: str) -> None:\n",
    "        print(f\"You are watching: {object_name}.\")\n",
    "class Child(Parents): # inheritance\n",
    "    def teach(self, subject: str) -> None:\n",
    "        print(f\"Child method for teaching {subject}.\")\n",
    "obj1: Parents = Parents()\n",
    "print(obj1.eyes_color)\n",
    "print(obj1.hairs_color)\n",
    "obj1.speak('Pakistan')\n",
    "obj1.watch('TV')\n",
    "obj2: Child = Child()\n",
    "print(obj2.eyes_color)\n",
    "print(obj2.hairs_color)\n",
    "obj2.speak('Pakistan and India')\n",
    "obj2.watch('Computer')\n",
    "obj2.teach('Python')"
   ]
  },
  {
   "attachments": {},
   "cell_type": "markdown",
   "metadata": {},
   "source": [
    "# lucidchart\n",
    "* Use this App to create flow charts for free"
   ]
  },
  {
   "cell_type": "code",
   "execution_count": 9,
   "metadata": {},
   "outputs": [
    {
     "name": "stdout",
     "output_type": "stream",
     "text": [
      "Hassan Animation  Artist\n",
      "GenAI Engineer\n",
      "['Python']\n"
     ]
    }
   ],
   "source": [
    "class Employees():\n",
    "    def __init__(self, name: str) -> None:\n",
    "        self.name: str = name \n",
    "        self.education: str = \"\"\n",
    "        self.department: str = \"\"\n",
    "class Designers(Employees):\n",
    "    def __init__(self, title: str, name: str) -> None:\n",
    "        super().__init__(name)\n",
    "        self.title: str = title\n",
    "class Developers(Employees):\n",
    "    def __init__(self, title: str, name: str) -> None:\n",
    "        super().__init__(name)\n",
    "        self.title: str = title\n",
    "        self.skills: list[str] = ['Python']\n",
    "designer1: Designers = Designers('Animation  Artist', 'Hassan')\n",
    "dev1: Developers = Developers('GenAI Engineer', 'Ali')\n",
    "print(designer1.name, designer1.title)\n",
    "print(dev1.title)\n",
    "print(dev1.skills)"
   ]
  },
  {
   "attachments": {},
   "cell_type": "markdown",
   "metadata": {},
   "source": [
    "## Multiple Inheritance"
   ]
  },
  {
   "cell_type": "code",
   "execution_count": 11,
   "metadata": {},
   "outputs": [
    {
     "name": "stdout",
     "output_type": "stream",
     "text": [
      "blue\n",
      "6 feet\n"
     ]
    },
    {
     "data": {
      "text/plain": [
       "'Mother speaking Function: I live in Pakistan'"
      ]
     },
     "execution_count": 11,
     "metadata": {},
     "output_type": "execute_result"
    }
   ],
   "source": [
    "class Mother:\n",
    "    def __init__(self, mname: str) -> None:\n",
    "        self.mname: str = mname\n",
    "        self.eyes_color: str = \"blue\"\n",
    "    def Speaking(self, words: str) -> str:\n",
    "        return f\"Mother speaking Function: {words}\"\n",
    "class Father:\n",
    "    def __init__(self, fname: str) -> None:\n",
    "        self.fname: str = fname\n",
    "        self.height: str = \"6 feet\"\n",
    "class Child(Mother, Father):\n",
    "    def __init__(self, mother_name: str, father_name: str, child_name: str) -> None:\n",
    "        Mother.__init__(self, mother_name)\n",
    "        Father.__init__(self, father_name)\n",
    "        self.child_name: str = child_name\n",
    "boy: Child = Child('Batool Bano', 'Syed Zahoor Ahmed', 'Syed Muhammad Hussain')\n",
    "print(boy.eyes_color)\n",
    "print(boy.height)\n",
    "boy.Speaking(f\"I live in Pakistan\")"
   ]
  },
  {
   "cell_type": "code",
   "execution_count": 12,
   "metadata": {},
   "outputs": [
    {
     "name": "stdout",
     "output_type": "stream",
     "text": [
      "blue\n",
      "6 feet\n"
     ]
    },
    {
     "data": {
      "text/plain": [
       "'Mother speaking Function: I live in Pakistan'"
      ]
     },
     "execution_count": 12,
     "metadata": {},
     "output_type": "execute_result"
    }
   ],
   "source": [
    "class Mother:\n",
    "    def __init__(self, mname: str) -> None:\n",
    "        self.mname: str = mname\n",
    "        self.eyes_color: str = \"blue\"\n",
    "    def Speaking(self, words: str) -> str:\n",
    "        return f\"Mother speaking Function: {words}\"\n",
    "class Father:\n",
    "    def __init__(self, fname: str) -> None:\n",
    "        self.fname: str = fname\n",
    "        self.height: str = \"6 feet\"\n",
    "    def Speaking(self, words: str) -> str:\n",
    "        return f\"Father speaking Function: {words}\"\n",
    "class Child(Mother, Father): # over-riding effect\n",
    "    def __init__(self, mother_name: str, father_name: str, child_name: str) -> None:\n",
    "        Mother.__init__(self, mother_name)\n",
    "        Father.__init__(self, father_name)\n",
    "        self.child_name: str = child_name\n",
    "boy: Child = Child('Batool Bano', 'Syed Zahoor Ahmed', 'Syed Muhammad Hussain')\n",
    "print(boy.eyes_color)\n",
    "print(boy.height)\n",
    "boy.Speaking(f\"I live in Pakistan\")"
   ]
  },
  {
   "cell_type": "code",
   "execution_count": 13,
   "metadata": {},
   "outputs": [
    {
     "name": "stdout",
     "output_type": "stream",
     "text": [
      "blue\n",
      "6 feet\n"
     ]
    },
    {
     "data": {
      "text/plain": [
       "'Father speaking Function: I live in Pakistan'"
      ]
     },
     "execution_count": 13,
     "metadata": {},
     "output_type": "execute_result"
    }
   ],
   "source": [
    "class Mother:\n",
    "    def __init__(self, mname: str) -> None:\n",
    "        self.mname: str = mname\n",
    "        self.eyes_color: str = \"blue\"\n",
    "    def Speaking(self, words: str) -> str:\n",
    "        return f\"Mother speaking Function: {words}\"\n",
    "class Father:\n",
    "    def __init__(self, fname: str) -> None:\n",
    "        self.fname: str = fname\n",
    "        self.height: str = \"6 feet\"\n",
    "    def Speaking(self, words: str) -> str:\n",
    "        return f\"Father speaking Function: {words}\"\n",
    "class Child(Father, Mother): # over-riding effect (take the method of first member of parent)\n",
    "    def __init__(self, mother_name: str, father_name: str, child_name: str) -> None:\n",
    "        Mother.__init__(self, mother_name)\n",
    "        Father.__init__(self, father_name)\n",
    "        self.child_name: str = child_name\n",
    "boy: Child = Child('Batool Bano', 'Syed Zahoor Ahmed', 'Syed Muhammad Hussain')\n",
    "print(boy.eyes_color)\n",
    "print(boy.height)\n",
    "boy.Speaking(f\"I live in Pakistan\")"
   ]
  },
  {
   "attachments": {},
   "cell_type": "markdown",
   "metadata": {},
   "source": [
    "### Function Over-loading"
   ]
  },
  {
   "cell_type": "code",
   "execution_count": 26,
   "metadata": {},
   "outputs": [
    {
     "name": "stdout",
     "output_type": "stream",
     "text": [
      "12\n",
      "12.3\n",
      "Hussain\n"
     ]
    }
   ],
   "source": [
    "from typing import Union, overload\n",
    "@overload\n",
    "def add(x: int, y: int) -> int: # func signature\n",
    "    ...\n",
    "@overload\n",
    "def add(x: float, y: float) -> float: # func signature\n",
    "    ...\n",
    "@overload\n",
    "def add(x: str, y: str) -> str: # func signature\n",
    "    ...\n",
    "def add(x: Union[int, float, str], y: Union[int, float, str]) -> Union[int, float, str]:\n",
    "    if isinstance(x, int) and isinstance(y, int):\n",
    "        return x + y\n",
    "    elif isinstance(x, float) and isinstance(y, float):\n",
    "        return x + y\n",
    "    elif isinstance(x, str) and isinstance(y, str):\n",
    "        return x + y\n",
    "    else:\n",
    "        raise TypeError(\"Invalid Argument Types!\")\n",
    "R1 = print(add(7, 5))\n",
    "R2 = print(add(3.7, 8.6))\n",
    "R3 = print(add('Hus', 'sain'))"
   ]
  },
  {
   "cell_type": "code",
   "execution_count": 20,
   "metadata": {},
   "outputs": [
    {
     "name": "stdout",
     "output_type": "stream",
     "text": [
      "6\n",
      "15\n"
     ]
    }
   ],
   "source": [
    "def sum(*n: int) -> int:\n",
    "    total: int = 0\n",
    "    for i in n:\n",
    "        total += i\n",
    "    return total\n",
    "print(sum(1, 2 ,3))\n",
    "print(sum(1, 2, 3, 4, 5))"
   ]
  },
  {
   "attachments": {},
   "cell_type": "markdown",
   "metadata": {},
   "source": [
    "## Method Overloading - object-wise"
   ]
  },
  {
   "cell_type": "code",
   "execution_count": 29,
   "metadata": {},
   "outputs": [
    {
     "name": "stdout",
     "output_type": "stream",
     "text": [
      "12\n",
      "7.4\n",
      "Hussain\n"
     ]
    }
   ],
   "source": [
    "from typing import Union, overload\n",
    "class Add:\n",
    "    @overload\n",
    "    def add(self, x: int, y: int) -> int: # func signature\n",
    "        ...\n",
    "    @overload\n",
    "    def add(self, x: float, y: float) -> float: # func signature\n",
    "        ...\n",
    "    @overload\n",
    "    def add(self, x: str, y: str) -> str: # func signature\n",
    "        ...\n",
    "    def add(self, x: Union[int, float, str], y: Union[int, float, str]) -> Union[int, float, str]:\n",
    "        if isinstance(x, int) and isinstance(y, int):\n",
    "            return x + y\n",
    "        elif isinstance(x, float) and isinstance(y, float):\n",
    "            return x + y\n",
    "        elif isinstance(x, str) and isinstance(y, str):\n",
    "            return x + y\n",
    "        else:\n",
    "            raise TypeError(\"Invalid Argument Types!\")\n",
    "sum: Add = Add()\n",
    "print(sum.add(7, 5))\n",
    "print(sum.add(3.8, 3.6))\n",
    "print(sum.add('Hus', 'sain'))"
   ]
  },
  {
   "attachments": {},
   "cell_type": "markdown",
   "metadata": {},
   "source": [
    "## Method Overloading - class-wise"
   ]
  },
  {
   "cell_type": "code",
   "execution_count": 30,
   "metadata": {},
   "outputs": [
    {
     "name": "stdout",
     "output_type": "stream",
     "text": [
      "9\n",
      "6.1\n",
      "Hussain\n"
     ]
    }
   ],
   "source": [
    "from typing import Union, overload\n",
    "class Add:\n",
    "    @overload\n",
    "    @classmethod\n",
    "    def add(cls, x: int, y: int) -> int: # func signature\n",
    "        ...\n",
    "    @overload\n",
    "    @classmethod\n",
    "    def add(cls, x: float, y: float) -> float: # func signature\n",
    "        ...\n",
    "    @overload\n",
    "    @classmethod\n",
    "    def add(cls, x: str, y: str) -> str: # func signature\n",
    "        ...\n",
    "    @classmethod\n",
    "    def add(cls, x: Union[int, float, str], y: Union[int, float, str]) -> Union[int, float, str]:\n",
    "        if isinstance(x, int) and isinstance(y, int):\n",
    "            return x + y\n",
    "        elif isinstance(x, float) and isinstance(y, float):\n",
    "            return x + y\n",
    "        elif isinstance(x, str) and isinstance(y, str):\n",
    "            return x + y\n",
    "        else:\n",
    "            raise TypeError(\"Invalid Argument Types!\")\n",
    "sum: Add = Add()\n",
    "print(sum.add(4, 5))\n",
    "print(sum.add(2.5, 3.6))\n",
    "print(sum.add('Hus', 'sain'))"
   ]
  },
  {
   "attachments": {},
   "cell_type": "markdown",
   "metadata": {},
   "source": [
    "## Over-riding and Polymorphism"
   ]
  },
  {
   "cell_type": "code",
   "execution_count": 39,
   "metadata": {},
   "outputs": [
    {
     "name": "stdout",
     "output_type": "stream",
     "text": [
      "Animal is eating: Grass\n",
      "Bird is eating: Bread\n",
      "Bird is eating: Grass with Bread\n"
     ]
    }
   ],
   "source": [
    "class Animal():\n",
    "    def eating(self, food: str) -> None:\n",
    "        print(f\"Animal is eating: {food}\")\n",
    "class Bird(Animal): # inheritance\n",
    "    def eating(self, food: str) -> None: # child class overrides his parent class\n",
    "        print(f\"Bird is eating: {food}\")\n",
    "# making object of parent class\n",
    "animal: Animal = Animal()\n",
    "animal.eating('Grass')\n",
    "# making object of child class\n",
    "bird: Bird = Bird() \n",
    "bird.eating('Bread')\n",
    "# Polymorphism (instead of animal, bird method is called)\n",
    "animal: Animal = Bird()\n",
    "animal.eating('Grass with Bread')"
   ]
  },
  {
   "attachments": {},
   "cell_type": "markdown",
   "metadata": {},
   "source": [
    "## Class Variable (Static Method)"
   ]
  },
  {
   "cell_type": "code",
   "execution_count": 44,
   "metadata": {},
   "outputs": [
    {
     "name": "stdout",
     "output_type": "stream",
     "text": [
      "Addition Method: 5\n",
      "Multiplication Method: 9\n",
      "Class Attribute: PIAIC\n"
     ]
    }
   ],
   "source": [
    "class MathsOperations:\n",
    "    organization: str = \"PIAIC\"\n",
    "    @staticmethod\n",
    "    def sum(x: int, y: int) -> int:\n",
    "        return x + y\n",
    "    @staticmethod\n",
    "    def multiply(x: int, y: int) -> int:\n",
    "        return x * y\n",
    "sum_operation = MathsOperations.sum(2, 3)\n",
    "multiply_operation = MathsOperations.multiply(3, 3)\n",
    "attribute = MathsOperations.organization\n",
    "print(f\"Addition Method: {sum_operation}\")\n",
    "print(f\"Multiplication Method: {multiply_operation}\")\n",
    "print(f\"Class Attribute: {attribute}\")"
   ]
  },
  {
   "attachments": {},
   "cell_type": "markdown",
   "metadata": {},
   "source": [
    "## Callable in Python"
   ]
  },
  {
   "cell_type": "code",
   "execution_count": 1,
   "metadata": {},
   "outputs": [
    {
     "name": "stdout",
     "output_type": "stream",
     "text": [
      "Human is eating: Biscuit.\n",
      "Human is eating: Rash.\n"
     ]
    }
   ],
   "source": [
    "class Human(object):\n",
    "    def eating(self, food: str) -> None:\n",
    "        print(f\"Human is eating: {food}.\")\n",
    "    def __call__(self) -> None:\n",
    "        self.eating('Rash')\n",
    "obj3: Human = Human()\n",
    "obj3.eating('Biscuit')\n",
    "obj3.__call__()"
   ]
  },
  {
   "cell_type": "code",
   "execution_count": 2,
   "metadata": {},
   "outputs": [
    {
     "name": "stdout",
     "output_type": "stream",
     "text": [
      "<class 'type'>\n"
     ]
    }
   ],
   "source": [
    "class SampleClass():\n",
    "    def method(self) -> None:\n",
    "        print(\"You called method()!\")\n",
    "print(type(SampleClass))"
   ]
  },
  {
   "cell_type": "code",
   "execution_count": 3,
   "metadata": {},
   "outputs": [
    {
     "data": {
      "text/plain": [
       "['__abstractmethods__',\n",
       " '__annotations__',\n",
       " '__base__',\n",
       " '__bases__',\n",
       " '__basicsize__',\n",
       " '__call__',\n",
       " '__class__',\n",
       " '__delattr__',\n",
       " '__dict__',\n",
       " '__dictoffset__',\n",
       " '__dir__',\n",
       " '__doc__',\n",
       " '__eq__',\n",
       " '__flags__',\n",
       " '__format__',\n",
       " '__ge__',\n",
       " '__getattribute__',\n",
       " '__getstate__',\n",
       " '__gt__',\n",
       " '__hash__',\n",
       " '__init__',\n",
       " '__init_subclass__',\n",
       " '__instancecheck__',\n",
       " '__itemsize__',\n",
       " '__le__',\n",
       " '__lt__',\n",
       " '__module__',\n",
       " '__mro__',\n",
       " '__name__',\n",
       " '__ne__',\n",
       " '__new__',\n",
       " '__or__',\n",
       " '__prepare__',\n",
       " '__qualname__',\n",
       " '__reduce__',\n",
       " '__reduce_ex__',\n",
       " '__repr__',\n",
       " '__ror__',\n",
       " '__setattr__',\n",
       " '__sizeof__',\n",
       " '__str__',\n",
       " '__subclasscheck__',\n",
       " '__subclasses__',\n",
       " '__subclasshook__',\n",
       " '__text_signature__',\n",
       " '__type_params__',\n",
       " '__weakrefoffset__',\n",
       " 'mro']"
      ]
     },
     "execution_count": 3,
     "metadata": {},
     "output_type": "execute_result"
    }
   ],
   "source": [
    "dir(type)"
   ]
  },
  {
   "cell_type": "code",
   "execution_count": 4,
   "metadata": {},
   "outputs": [
    {
     "data": {
      "text/plain": [
       "['__call__',\n",
       " '__class__',\n",
       " '__delattr__',\n",
       " '__dir__',\n",
       " '__doc__',\n",
       " '__eq__',\n",
       " '__format__',\n",
       " '__func__',\n",
       " '__ge__',\n",
       " '__getattribute__',\n",
       " '__getstate__',\n",
       " '__gt__',\n",
       " '__hash__',\n",
       " '__init__',\n",
       " '__init_subclass__',\n",
       " '__le__',\n",
       " '__lt__',\n",
       " '__ne__',\n",
       " '__new__',\n",
       " '__reduce__',\n",
       " '__reduce_ex__',\n",
       " '__repr__',\n",
       " '__self__',\n",
       " '__setattr__',\n",
       " '__sizeof__',\n",
       " '__str__',\n",
       " '__subclasshook__']"
      ]
     },
     "execution_count": 4,
     "metadata": {},
     "output_type": "execute_result"
    }
   ],
   "source": [
    "sample_instance = SampleClass()\n",
    "dir(sample_instance.method)"
   ]
  },
  {
   "cell_type": "code",
   "execution_count": 10,
   "metadata": {},
   "outputs": [
    {
     "data": {
      "text/plain": [
       "True"
      ]
     },
     "execution_count": 10,
     "metadata": {},
     "output_type": "execute_result"
    }
   ],
   "source": [
    "from typing import Any\n",
    "class NonCallable():\n",
    "    def __call__(self, *args: Any, **kwds: Any) -> Any:\n",
    "        raise TypeError(\"Not really Callable\")\n",
    "instance: NonCallable = NonCallable()\n",
    "callable(instance)"
   ]
  },
  {
   "cell_type": "code",
   "execution_count": 11,
   "metadata": {},
   "outputs": [
    {
     "ename": "TypeError",
     "evalue": "Not really Callable",
     "output_type": "error",
     "traceback": [
      "\u001b[1;31m---------------------------------------------------------------------------\u001b[0m",
      "\u001b[1;31mTypeError\u001b[0m                                 Traceback (most recent call last)",
      "Cell \u001b[1;32mIn[11], line 1\u001b[0m\n\u001b[1;32m----> 1\u001b[0m instance()\n",
      "Cell \u001b[1;32mIn[10], line 4\u001b[0m, in \u001b[0;36mNonCallable.__call__\u001b[1;34m(self, *args, **kwds)\u001b[0m\n\u001b[0;32m      3\u001b[0m \u001b[39mdef\u001b[39;00m \u001b[39m__call__\u001b[39m(\u001b[39mself\u001b[39m, \u001b[39m*\u001b[39margs: Any, \u001b[39m*\u001b[39m\u001b[39m*\u001b[39mkwds: Any) \u001b[39m-\u001b[39m\u001b[39m>\u001b[39m Any:\n\u001b[1;32m----> 4\u001b[0m     \u001b[39mraise\u001b[39;00m \u001b[39mTypeError\u001b[39;00m(\u001b[39m\"\u001b[39m\u001b[39mNot really Callable\u001b[39m\u001b[39m\"\u001b[39m)\n",
      "\u001b[1;31mTypeError\u001b[0m: Not really Callable"
     ]
    }
   ],
   "source": [
    "instance()"
   ]
  },
  {
   "cell_type": "code",
   "execution_count": 15,
   "metadata": {},
   "outputs": [
    {
     "data": {
      "text/plain": [
       "2"
      ]
     },
     "execution_count": 15,
     "metadata": {},
     "output_type": "execute_result"
    }
   ],
   "source": [
    "class PowerFactory():\n",
    "    def __init__(self, exponent: int = 2) -> None:\n",
    "        self.exponent = exponent\n",
    "    def __call__(self, base: int) -> int:\n",
    "        return base**self.exponent\n",
    "obj4: PowerFactory = PowerFactory()\n",
    "obj4.exponent"
   ]
  },
  {
   "cell_type": "code",
   "execution_count": 14,
   "metadata": {},
   "outputs": [
    {
     "data": {
      "text/plain": [
       "4"
      ]
     },
     "execution_count": 14,
     "metadata": {},
     "output_type": "execute_result"
    }
   ],
   "source": [
    "obj4(2)"
   ]
  },
  {
   "cell_type": "code",
   "execution_count": 16,
   "metadata": {},
   "outputs": [
    {
     "data": {
      "text/plain": [
       "9"
      ]
     },
     "execution_count": 16,
     "metadata": {},
     "output_type": "execute_result"
    }
   ],
   "source": [
    "obj4(3)"
   ]
  },
  {
   "cell_type": "code",
   "execution_count": 26,
   "metadata": {},
   "outputs": [
    {
     "name": "stdout",
     "output_type": "stream",
     "text": [
      "[12]\n",
      "12.0\n",
      "[12, 13]\n",
      "12.5\n",
      "[12, 13, 11]\n",
      "12.0\n",
      "[12, 13, 11, 10]\n",
      "11.5\n"
     ]
    }
   ],
   "source": [
    "def cumulative_average() -> int:\n",
    "    data: list[int] = []\n",
    "    def average(new_value: int) -> int:\n",
    "        data.append(new_value)\n",
    "        print(data)\n",
    "        return sum(data) / len(data)\n",
    "    return average\n",
    "stream_average = cumulative_average()\n",
    "print(stream_average(12))\n",
    "print(stream_average(13))\n",
    "print(stream_average(11))\n",
    "print(stream_average(10))"
   ]
  },
  {
   "cell_type": "code",
   "execution_count": 32,
   "metadata": {},
   "outputs": [
    {
     "name": "stdout",
     "output_type": "stream",
     "text": [
      "[10]\n",
      "[10, 20]\n"
     ]
    },
    {
     "data": {
      "text/plain": [
       "15.0"
      ]
     },
     "execution_count": 32,
     "metadata": {},
     "output_type": "execute_result"
    }
   ],
   "source": [
    "class CumulativeAverage():\n",
    "    def __init__(self) -> None:\n",
    "        self.data = []\n",
    "    def __call__(self, new_value: int) -> int:\n",
    "        self.data.append(new_value)\n",
    "        print(self.data)\n",
    "        return sum(self.data) / len(self.data)\n",
    "stream_average = CumulativeAverage()\n",
    "stream_average(10)\n",
    "stream_average(20)"
   ]
  },
  {
   "cell_type": "code",
   "execution_count": 45,
   "metadata": {},
   "outputs": [
    {
     "data": {
      "text/plain": [
       "120"
      ]
     },
     "execution_count": 45,
     "metadata": {},
     "output_type": "execute_result"
    }
   ],
   "source": [
    "class Factorial:\n",
    "    def __init__(self) -> None:\n",
    "        self.cache = {0: 1, 1: 1}\n",
    "    def __call__(self, number: int) -> int:\n",
    "        if number not in self.cache:\n",
    "            self.cache[number] = number * self(number - 1)\n",
    "        return self.cache[number]\n",
    "factorial_of = Factorial()\n",
    "factorial_of(5)"
   ]
  },
  {
   "cell_type": "code",
   "execution_count": 46,
   "metadata": {},
   "outputs": [
    {
     "data": {
      "text/plain": [
       "{0: 1, 1: 1, 2: 2, 3: 6, 4: 24, 5: 120}"
      ]
     },
     "execution_count": 46,
     "metadata": {},
     "output_type": "execute_result"
    }
   ],
   "source": [
    "factorial_of.cache"
   ]
  },
  {
   "cell_type": "code",
   "execution_count": 5,
   "metadata": {},
   "outputs": [],
   "source": [
    "import time\n",
    "from typing import Any\n",
    "class ExecutionTimer:\n",
    "    def __init__(self, func) -> None:\n",
    "        self.func = func\n",
    "    def __call__(self, *args: Any, **kwds: Any) -> Any:\n",
    "        start = time.perf_counter()\n",
    "        result = self.func(*args, **kwds)\n",
    "        end = time.perf_counter()\n",
    "        print(f\"{self.func.__name__}() took {(end - start) * 1000: .4f} ms\")\n",
    "        return result"
   ]
  },
  {
   "cell_type": "code",
   "execution_count": 11,
   "metadata": {},
   "outputs": [
    {
     "name": "stdout",
     "output_type": "stream",
     "text": [
      "square_numbers() took  0.0081 ms\n"
     ]
    },
    {
     "data": {
      "text/plain": [
       "[0, 1, 4, 9, 16, 25, 36, 49, 64, 81]"
      ]
     },
     "execution_count": 11,
     "metadata": {},
     "output_type": "execute_result"
    }
   ],
   "source": [
    "@ExecutionTimer\n",
    "def square_numbers(numbers):\n",
    "        return [number ** 2 for number in numbers]\n",
    "square_numbers(list(range(10)))"
   ]
  },
  {
   "attachments": {},
   "cell_type": "markdown",
   "metadata": {},
   "source": [
    "## How can we create a Python Package for the use of public\n",
    "* https://www.turing.com/kb/how-to-create-pypi-packages\n",
    "* See Lecture 15"
   ]
  },
  {
   "attachments": {},
   "cell_type": "markdown",
   "metadata": {},
   "source": [
    "# Encapsulation\n",
    "* Access Modifiers (of three types)\n",
    "* Public, Protected, Private\n",
    "* Data is public by default\n",
    "* Data is protected within a specific class\n",
    "* Data is private from any other class (it is encapsulation, setter, getter etc.)"
   ]
  },
  {
   "cell_type": "code",
   "execution_count": 12,
   "metadata": {},
   "outputs": [],
   "source": [
    "class Piaic():\n",
    "    def __init__(self) -> None:\n",
    "        self.piaic_helpline: str = \"###\" # public\n",
    "        self._total_expenses: int = 50000 # protected\n",
    "        self.__test_announcement: str = \"5th November, 2023\" # private"
   ]
  },
  {
   "cell_type": "code",
   "execution_count": 15,
   "metadata": {},
   "outputs": [
    {
     "name": "stdout",
     "output_type": "stream",
     "text": [
      "###\n",
      "5555\n"
     ]
    }
   ],
   "source": [
    "sample_object: Piaic = Piaic()\n",
    "print(sample_object.piaic_helpline)\n",
    "sample_object.piaic_helpline = \"5555\"\n",
    "print(sample_object.piaic_helpline)"
   ]
  },
  {
   "cell_type": "code",
   "execution_count": 16,
   "metadata": {},
   "outputs": [
    {
     "ename": "AttributeError",
     "evalue": "'Piaic' object has no attribute '__test_announcement'",
     "output_type": "error",
     "traceback": [
      "\u001b[1;31m---------------------------------------------------------------------------\u001b[0m",
      "\u001b[1;31mAttributeError\u001b[0m                            Traceback (most recent call last)",
      "Cell \u001b[1;32mIn[16], line 1\u001b[0m\n\u001b[1;32m----> 1\u001b[0m \u001b[39mprint\u001b[39m(sample_object\u001b[39m.\u001b[39;49m__test_announcement)\n",
      "\u001b[1;31mAttributeError\u001b[0m: 'Piaic' object has no attribute '__test_announcement'"
     ]
    }
   ],
   "source": [
    "print(sample_object.__test_announcement)"
   ]
  },
  {
   "cell_type": "code",
   "execution_count": 22,
   "metadata": {},
   "outputs": [
    {
     "data": {
      "text/plain": [
       "'5th November, 2023'"
      ]
     },
     "execution_count": 22,
     "metadata": {},
     "output_type": "execute_result"
    }
   ],
   "source": [
    "sample_object._Piaic__test_announcement # In Python private can be accessed by this method"
   ]
  },
  {
   "cell_type": "code",
   "execution_count": 34,
   "metadata": {},
   "outputs": [],
   "source": [
    "class StudentLogin():\n",
    "    def __init__(self) -> None:\n",
    "        self.__username: str = \"Admin\"\n",
    "        self.__password: str = \"Admin\"\n",
    "    def __dbconnectivity(self, user: str, password: str) -> str:\n",
    "        print(\"You have connected successfully!\")\n",
    "        if user == self.__username and password == self.__password:\n",
    "            return \"Valid User\"\n",
    "        else:\n",
    "            return \"Invalid User\"\n",
    "    def update_admin_login(self, user: str, password: str) -> str:\n",
    "        self.__username = user\n",
    "        self.__password = password\n",
    "    def student_login(self, new_user: str, new_password: str) -> str:\n",
    "        message = self.__dbconnectivity(new_user, new_password)\n",
    "        print(message)\n",
    "    def display_info(self) -> None:\n",
    "        print(f\"Hello Dear {self.__username}, your password is {self.__password}.\")\n",
    "hussain: StudentLogin = StudentLogin()"
   ]
  },
  {
   "cell_type": "code",
   "execution_count": 35,
   "metadata": {},
   "outputs": [
    {
     "ename": "AttributeError",
     "evalue": "'StudentLogin' object has no attribute '__username'",
     "output_type": "error",
     "traceback": [
      "\u001b[1;31m---------------------------------------------------------------------------\u001b[0m",
      "\u001b[1;31mAttributeError\u001b[0m                            Traceback (most recent call last)",
      "Cell \u001b[1;32mIn[35], line 1\u001b[0m\n\u001b[1;32m----> 1\u001b[0m hussain\u001b[39m.\u001b[39;49m__username\n\u001b[0;32m      2\u001b[0m hussain\u001b[39m.\u001b[39m__password\n",
      "\u001b[1;31mAttributeError\u001b[0m: 'StudentLogin' object has no attribute '__username'"
     ]
    }
   ],
   "source": [
    "hussain.__username\n",
    "hussain.__password"
   ]
  },
  {
   "cell_type": "code",
   "execution_count": 36,
   "metadata": {},
   "outputs": [],
   "source": [
    "hussain.__username = \"Ali\""
   ]
  },
  {
   "cell_type": "code",
   "execution_count": 37,
   "metadata": {},
   "outputs": [
    {
     "name": "stdout",
     "output_type": "stream",
     "text": [
      "Hello Dear Admin, your password is Admin.\n"
     ]
    }
   ],
   "source": [
    "hussain.display_info()"
   ]
  },
  {
   "cell_type": "code",
   "execution_count": 38,
   "metadata": {},
   "outputs": [
    {
     "name": "stdout",
     "output_type": "stream",
     "text": [
      "You have connected successfully!\n",
      "Invalid User\n"
     ]
    }
   ],
   "source": [
    "hussain.student_login(\"hussain\", \"hussain123\")"
   ]
  },
  {
   "cell_type": "code",
   "execution_count": 39,
   "metadata": {},
   "outputs": [
    {
     "name": "stdout",
     "output_type": "stream",
     "text": [
      "You have connected successfully!\n",
      "Valid User\n"
     ]
    }
   ],
   "source": [
    "hussain.student_login(\"Admin\", \"Admin\")"
   ]
  },
  {
   "cell_type": "code",
   "execution_count": 40,
   "metadata": {},
   "outputs": [],
   "source": [
    "hussain.update_admin_login(\"hussain\", \"hussain123\")"
   ]
  },
  {
   "cell_type": "code",
   "execution_count": 41,
   "metadata": {},
   "outputs": [
    {
     "name": "stdout",
     "output_type": "stream",
     "text": [
      "Hello Dear hussain, your password is hussain123.\n"
     ]
    }
   ],
   "source": [
    "hussain.display_info()"
   ]
  },
  {
   "attachments": {},
   "cell_type": "markdown",
   "metadata": {},
   "source": [
    "#    __str__"
   ]
  },
  {
   "cell_type": "code",
   "execution_count": 45,
   "metadata": {},
   "outputs": [
    {
     "name": "stdout",
     "output_type": "stream",
     "text": [
      "<__main__.Teacher object at 0x000001E850BC1760>\n"
     ]
    }
   ],
   "source": [
    "class Teacher():\n",
    "    def __init__(self, name: str) -> None:\n",
    "        self.name: str = name\n",
    "sir_zia: Teacher = Teacher(\"Sir Zia\")\n",
    "print(sir_zia)"
   ]
  },
  {
   "cell_type": "code",
   "execution_count": 47,
   "metadata": {},
   "outputs": [
    {
     "name": "stdout",
     "output_type": "stream",
     "text": [
      "Teacher name is: Sir Zia.\n"
     ]
    }
   ],
   "source": [
    "class Teacher():\n",
    "    def __init__(self, name: str) -> None:\n",
    "        self.name: str = name\n",
    "    def __str__(self) -> str:\n",
    "            return f\"Teacher name is: {self.name}.\"\n",
    "sir_zia: Teacher = Teacher(\"Sir Zia\")\n",
    "print(sir_zia)"
   ]
  },
  {
   "attachments": {},
   "cell_type": "markdown",
   "metadata": {},
   "source": [
    "## Abstract"
   ]
  },
  {
   "cell_type": "code",
   "execution_count": 49,
   "metadata": {},
   "outputs": [
    {
     "ename": "TypeError",
     "evalue": "Can't instantiate abstract class Animal without an implementation for abstract method '__init__'",
     "output_type": "error",
     "traceback": [
      "\u001b[1;31m---------------------------------------------------------------------------\u001b[0m",
      "\u001b[1;31mTypeError\u001b[0m                                 Traceback (most recent call last)",
      "Cell \u001b[1;32mIn[49], line 6\u001b[0m\n\u001b[0;32m      3\u001b[0m     \u001b[39m@abstractmethod\u001b[39m\n\u001b[0;32m      4\u001b[0m     \u001b[39mdef\u001b[39;00m \u001b[39m__init__\u001b[39m(\u001b[39mself\u001b[39m) \u001b[39m-\u001b[39m\u001b[39m>\u001b[39m \u001b[39mNone\u001b[39;00m:\n\u001b[0;32m      5\u001b[0m         \u001b[39msuper\u001b[39m()\u001b[39m.\u001b[39m\u001b[39m__init__\u001b[39m()\n\u001b[1;32m----> 6\u001b[0m obj: Animal \u001b[39m=\u001b[39m Animal()\n",
      "\u001b[1;31mTypeError\u001b[0m: Can't instantiate abstract class Animal without an implementation for abstract method '__init__'"
     ]
    }
   ],
   "source": [
    "from abc import ABC, abstractmethod\n",
    "class Animal(ABC):\n",
    "    @abstractmethod\n",
    "    def __init__(self) -> None:\n",
    "        super().__init__()\n",
    "obj: Animal = Animal()"
   ]
  },
  {
   "cell_type": "code",
   "execution_count": 54,
   "metadata": {},
   "outputs": [
    {
     "name": "stdout",
     "output_type": "stream",
     "text": [
      "True\n"
     ]
    }
   ],
   "source": [
    "from abc import ABC, abstractmethod\n",
    "class Animal(ABC):\n",
    "    @abstractmethod\n",
    "    def __init__(self) -> None:\n",
    "        super().__init__()\n",
    "        self.living_things: bool = True\n",
    "class Cat(Animal):\n",
    "    def __init__(self) -> None:\n",
    "        super().__init__()\n",
    "obj: Cat = Cat()\n",
    "print(obj.living_things)"
   ]
  },
  {
   "cell_type": "code",
   "execution_count": 57,
   "metadata": {},
   "outputs": [
    {
     "ename": "TypeError",
     "evalue": "Can't instantiate abstract class Cat without an implementation for abstract method 'eat'",
     "output_type": "error",
     "traceback": [
      "\u001b[1;31m---------------------------------------------------------------------------\u001b[0m",
      "\u001b[1;31mTypeError\u001b[0m                                 Traceback (most recent call last)",
      "Cell \u001b[1;32mIn[57], line 13\u001b[0m\n\u001b[0;32m     11\u001b[0m     \u001b[39mdef\u001b[39;00m \u001b[39m__init__\u001b[39m(\u001b[39mself\u001b[39m) \u001b[39m-\u001b[39m\u001b[39m>\u001b[39m \u001b[39mNone\u001b[39;00m:\n\u001b[0;32m     12\u001b[0m         \u001b[39msuper\u001b[39m()\u001b[39m.\u001b[39m\u001b[39m__init__\u001b[39m()\n\u001b[1;32m---> 13\u001b[0m obj: Cat \u001b[39m=\u001b[39m Cat()\n\u001b[0;32m     14\u001b[0m \u001b[39mprint\u001b[39m(obj\u001b[39m.\u001b[39mliving_things)\n",
      "\u001b[1;31mTypeError\u001b[0m: Can't instantiate abstract class Cat without an implementation for abstract method 'eat'"
     ]
    }
   ],
   "source": [
    "from abc import ABC, abstractmethod\n",
    "class Animal(ABC):\n",
    "    @abstractmethod\n",
    "    def __init__(self) -> None:\n",
    "        super().__init__()\n",
    "        self.living_things: bool = True\n",
    "    @abstractmethod\n",
    "    def eat(self, food: str):\n",
    "        ...\n",
    "class Cat(Animal):\n",
    "    def __init__(self) -> None:\n",
    "        super().__init__()\n",
    "obj: Cat = Cat()\n",
    "print(obj.living_things)"
   ]
  },
  {
   "cell_type": "code",
   "execution_count": 60,
   "metadata": {},
   "outputs": [
    {
     "name": "stdout",
     "output_type": "stream",
     "text": [
      "True\n",
      "Cat is eating: Mouse\n"
     ]
    }
   ],
   "source": [
    "from abc import ABC, abstractmethod\n",
    "class Animal(ABC):\n",
    "    @abstractmethod\n",
    "    def __init__(self) -> None:\n",
    "        super().__init__()\n",
    "        self.living_things: bool = True\n",
    "    @abstractmethod\n",
    "    def eat(self, food: str) -> str:\n",
    "        ...\n",
    "class Cat(Animal):\n",
    "    def __init__(self) -> None:\n",
    "        super().__init__()\n",
    "    def eat(self, food: str) -> str:\n",
    "        return f\"Cat is eating: {food}\"\n",
    "obj: Cat = Cat()\n",
    "print(obj.living_things)\n",
    "print(obj.eat(\"Mouse\"))"
   ]
  },
  {
   "attachments": {},
   "cell_type": "markdown",
   "metadata": {},
   "source": [
    "## Duck Typing\n",
    "* https://ioflood.com/blog/duck-typing/"
   ]
  },
  {
   "cell_type": "code",
   "execution_count": 61,
   "metadata": {},
   "outputs": [
    {
     "name": "stdout",
     "output_type": "stream",
     "text": [
      "Quack!\n",
      "I am quacking like a duck!\n"
     ]
    }
   ],
   "source": [
    "class Duck:\n",
    "    def quack(self) -> str:\n",
    "        return \"Quack!\"\n",
    "class Person:\n",
    "    def quack(self) -> str:\n",
    "        return \"I am quacking like a duck!\"\n",
    "def in_the_forest(malard) -> None:\n",
    "    print(malard.quack())\n",
    "bird: Duck = Duck()\n",
    "man: Person = Person()\n",
    "in_the_forest(bird)\n",
    "in_the_forest(man)"
   ]
  }
 ],
 "metadata": {
  "kernelspec": {
   "display_name": "python12",
   "language": "python",
   "name": "python3"
  },
  "language_info": {
   "codemirror_mode": {
    "name": "ipython",
    "version": 3
   },
   "file_extension": ".py",
   "mimetype": "text/x-python",
   "name": "python",
   "nbconvert_exporter": "python",
   "pygments_lexer": "ipython3",
   "version": "3.12.0"
  },
  "orig_nbformat": 4
 },
 "nbformat": 4,
 "nbformat_minor": 2
}
