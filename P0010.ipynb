{
 "cells": [
  {
   "attachments": {},
   "cell_type": "markdown",
   "metadata": {},
   "source": [
    "# List continued...\n",
    "* loop"
   ]
  },
  {
   "cell_type": "code",
   "execution_count": 35,
   "metadata": {},
   "outputs": [
    {
     "data": {
      "text/plain": [
       "[(0, 'Muhammad'), (1, 'Ali'), (2, 'Fatima'), (3, 'Hassan'), (4, 'Hussain')]"
      ]
     },
     "execution_count": 35,
     "metadata": {},
     "output_type": "execute_result"
    }
   ],
   "source": [
    "names: list[str] = ['Muhammad', 'Ali', 'Fatima', 'Hassan', 'Hussain']\n",
    "list(enumerate(names))"
   ]
  },
  {
   "cell_type": "code",
   "execution_count": 2,
   "metadata": {},
   "outputs": [
    {
     "name": "stdout",
     "output_type": "stream",
     "text": [
      "['Muhammad', 'Ali', 'Fatima', 'Hassan', 'Hussain']\n",
      "Muhammad\n",
      "Ali\n",
      "Fatima\n",
      "Hassan\n",
      "Hussain\n"
     ]
    }
   ],
   "source": [
    "names: list[str] = ['Muhammad', 'Ali', 'Fatima', 'Hassan', 'Hussain']\n",
    "print(names)\n",
    "for name in names:\n",
    "    print(name)"
   ]
  },
  {
   "cell_type": "code",
   "execution_count": 6,
   "metadata": {},
   "outputs": [
    {
     "name": "stdout",
     "output_type": "stream",
     "text": [
      "Muhammad\n",
      "Ali\n",
      "Fatima\n",
      "Hassan\n",
      "Hussain\n"
     ]
    }
   ],
   "source": [
    "names: list[str] = ['Muhammad', 'Ali', 'Fatima', 'Hassan', 'Hussain']\n",
    "i: int = 0\n",
    "while i < len(names):\n",
    "    print(names[i])\n",
    "    i += 1"
   ]
  },
  {
   "cell_type": "code",
   "execution_count": 12,
   "metadata": {},
   "outputs": [
    {
     "name": "stdout",
     "output_type": "stream",
     "text": [
      "Welcome to our beloved teacher Muhammad.\n",
      "From: AJ&K Council\n",
      "Welcome to our beloved teacher Ali.\n",
      "From: AJ&K Council\n",
      "Welcome to our beloved teacher Fatima.\n",
      "From: AJ&K Council\n",
      "Welcome to our beloved teacher Hassan.\n",
      "From: AJ&K Council\n",
      "Welcome to our beloved teacher Hussain.\n",
      "From: AJ&K Council\n"
     ]
    }
   ],
   "source": [
    "names: list[str] = ['Muhammad', 'Ali', 'Fatima', 'Hassan', 'Hussain']\n",
    "for name in names:\n",
    "    print(f\"Welcome to our beloved teacher {name.title()}.\")\n",
    "    print(\"From: AJ&K Council\")"
   ]
  },
  {
   "cell_type": "code",
   "execution_count": 13,
   "metadata": {},
   "outputs": [
    {
     "name": "stdout",
     "output_type": "stream",
     "text": [
      "Welcome to our beloved teacher Muhammad.\n",
      "From: AJ&K Council\n",
      "Welcome to our beloved teacher Ali.\n",
      "From: AJ&K Council\n"
     ]
    }
   ],
   "source": [
    "names: list[str] = ['Muhammad', 'Ali', 'Fatima', 'Hassan', 'Hussain']\n",
    "for name in names [:2]:\n",
    "    print(f\"Welcome to our beloved teacher {name.title()}.\")\n",
    "    print(\"From: AJ&K Council\")"
   ]
  },
  {
   "cell_type": "code",
   "execution_count": 14,
   "metadata": {},
   "outputs": [
    {
     "name": "stdout",
     "output_type": "stream",
     "text": [
      "Welcome to our beloved teacher Hussain.\n",
      "From: AJ&K Council\n",
      "Welcome to our beloved teacher Hassan.\n",
      "From: AJ&K Council\n",
      "Welcome to our beloved teacher Fatima.\n",
      "From: AJ&K Council\n",
      "Welcome to our beloved teacher Ali.\n",
      "From: AJ&K Council\n",
      "Welcome to our beloved teacher Muhammad.\n",
      "From: AJ&K Council\n"
     ]
    }
   ],
   "source": [
    "names: list[str] = ['Muhammad', 'Ali', 'Fatima', 'Hassan', 'Hussain']\n",
    "for name in names [::-1]:\n",
    "    print(f\"Welcome to our beloved teacher {name.title()}.\")\n",
    "    print(\"From: AJ&K Council\")"
   ]
  },
  {
   "cell_type": "code",
   "execution_count": 16,
   "metadata": {},
   "outputs": [
    {
     "name": "stdout",
     "output_type": "stream",
     "text": [
      "('Ali', '123')\n",
      "('Hasan', '456')\n",
      "('Haq', '789')\n"
     ]
    }
   ],
   "source": [
    "data_base: list[tuple[str, str]] = [('Ali', '123'), ('Hasan', '456'), ('Haq', '789')]\n",
    "for data in data_base:\n",
    "    print(data)    "
   ]
  },
  {
   "cell_type": "code",
   "execution_count": 18,
   "metadata": {},
   "outputs": [
    {
     "name": "stdout",
     "output_type": "stream",
     "text": [
      "Ali 123\n",
      "Hasan 456\n",
      "Haq 789\n"
     ]
    }
   ],
   "source": [
    "data_base: list[tuple[str, str]] = [('Ali', '123'), ('Hasan', '456'), ('Haq', '789')]\n",
    "for data in data_base:\n",
    "    user, password = data\n",
    "    print(user, password)"
   ]
  },
  {
   "cell_type": "code",
   "execution_count": 25,
   "metadata": {},
   "outputs": [
    {
     "name": "stdout",
     "output_type": "stream",
     "text": [
      "Valid User!\n"
     ]
    }
   ],
   "source": [
    "data_base: list[tuple[str, str]] = [('Ali', '123'), ('Hasan', '456'), ('Haq', '789')]\n",
    "input_user: str = input(\"Please enter User's name: \")\n",
    "input_password: str = input(\"Please enter password\")\n",
    "for data in data_base:\n",
    "    user, password = data\n",
    "    if input_user == user and input_password == password:\n",
    "        print(\"Valid User!\")\n",
    "        break\n",
    "else:\n",
    "    print(\"The desired User's Name is not found or Invalid User\")"
   ]
  },
  {
   "attachments": {},
   "cell_type": "markdown",
   "metadata": {},
   "source": [
    "# Loop with Numbers\n",
    "* range(start, end, steps)"
   ]
  },
  {
   "cell_type": "code",
   "execution_count": 29,
   "metadata": {},
   "outputs": [
    {
     "data": {
      "text/plain": [
       "range(0, 10)"
      ]
     },
     "execution_count": 29,
     "metadata": {},
     "output_type": "execute_result"
    }
   ],
   "source": [
    "range(10)\n"
   ]
  },
  {
   "cell_type": "code",
   "execution_count": 32,
   "metadata": {},
   "outputs": [
    {
     "data": {
      "text/plain": [
       "[0, 1, 2, 3, 4, 5, 6, 7, 8, 9]"
      ]
     },
     "execution_count": 32,
     "metadata": {},
     "output_type": "execute_result"
    }
   ],
   "source": [
    "list(range(10))"
   ]
  },
  {
   "cell_type": "code",
   "execution_count": 33,
   "metadata": {},
   "outputs": [
    {
     "data": {
      "text/plain": [
       "[2, 3, 4, 5, 6, 7, 8, 9]"
      ]
     },
     "execution_count": 33,
     "metadata": {},
     "output_type": "execute_result"
    }
   ],
   "source": [
    "list(range(2, 10))"
   ]
  },
  {
   "cell_type": "code",
   "execution_count": 34,
   "metadata": {},
   "outputs": [
    {
     "data": {
      "text/plain": [
       "[2, 4, 6, 8, 10, 12, 14, 16, 18, 20]"
      ]
     },
     "execution_count": 34,
     "metadata": {},
     "output_type": "execute_result"
    }
   ],
   "source": [
    "list(range(2, 21, 2))"
   ]
  },
  {
   "cell_type": "code",
   "execution_count": 37,
   "metadata": {},
   "outputs": [
    {
     "name": "stdout",
     "output_type": "stream",
     "text": [
      "2\n",
      "4\n",
      "6\n",
      "8\n",
      "10\n",
      "12\n",
      "14\n",
      "16\n",
      "18\n",
      "20\n"
     ]
    }
   ],
   "source": [
    "for n in range(2, 21, 2):\n",
    "    print(n)"
   ]
  },
  {
   "cell_type": "code",
   "execution_count": 48,
   "metadata": {},
   "outputs": [
    {
     "name": "stdout",
     "output_type": "stream",
     "text": [
      "02 x 1 = 2\n",
      "02 x 2 = 4\n",
      "02 x 3 = 6\n",
      "02 x 4 = 8\n",
      "02 x 5 = 10\n",
      "02 x 6 = 12\n",
      "02 x 7 = 14\n",
      "02 x 8 = 16\n",
      "02 x 9 = 18\n",
      "02 x 10 = 20\n"
     ]
    }
   ],
   "source": [
    "for n in range(1, 11):\n",
    "    print(f\"02 x {n} = {n*2}\")"
   ]
  },
  {
   "cell_type": "code",
   "execution_count": 41,
   "metadata": {},
   "outputs": [
    {
     "name": "stdout",
     "output_type": "stream",
     "text": [
      "0 Muhammad\n",
      "1 Ali\n",
      "2 Fatima\n",
      "3 Hassan\n",
      "4 Hussain\n"
     ]
    }
   ],
   "source": [
    "names: list[str] = ['Muhammad', 'Ali', 'Fatima', 'Hassan', 'Hussain']\n",
    "for index, names in enumerate(names):\n",
    "    print(index, names)"
   ]
  },
  {
   "cell_type": "code",
   "execution_count": 45,
   "metadata": {},
   "outputs": [
    {
     "name": "stdout",
     "output_type": "stream",
     "text": [
      "0 2\n",
      "1 4\n",
      "2 6\n",
      "3 8\n",
      "4 10\n",
      "5 12\n",
      "6 14\n",
      "7 16\n",
      "8 18\n",
      "9 20\n"
     ]
    }
   ],
   "source": [
    "for index, number in enumerate(range(2, 21, 2)):\n",
    "    print(index, number)"
   ]
  },
  {
   "cell_type": "code",
   "execution_count": 51,
   "metadata": {},
   "outputs": [
    {
     "name": "stdout",
     "output_type": "stream",
     "text": [
      "[1]\n",
      "[1, 4]\n",
      "[1, 4, 9]\n",
      "[1, 4, 9, 16]\n",
      "[1, 4, 9, 16, 25]\n",
      "[1, 4, 9, 16, 25, 36]\n",
      "[1, 4, 9, 16, 25, 36, 49]\n",
      "[1, 4, 9, 16, 25, 36, 49, 64]\n",
      "[1, 4, 9, 16, 25, 36, 49, 64, 81]\n",
      "[1, 4, 9, 16, 25, 36, 49, 64, 81, 100]\n",
      "\n",
      " [1, 4, 9, 16, 25, 36, 49, 64, 81, 100]\n"
     ]
    }
   ],
   "source": [
    "squares: list[int] = []\n",
    "for value in range(1, 11):\n",
    "    square = value ** 2\n",
    "    squares.append(square)\n",
    "    print(squares)\n",
    "print(\"\\n\", squares)"
   ]
  },
  {
   "attachments": {},
   "cell_type": "markdown",
   "metadata": {},
   "source": [
    "# List Comprehensive\n",
    "\"\"\"\n",
    "for item in items_list:\n",
    "    for body\n",
    "\"\"\"\n",
    "* Comprehensive Style\n",
    "\n",
    "\"\"\"\n",
    "[for body for item in items_list]\n",
    "\"\"\""
   ]
  },
  {
   "cell_type": "code",
   "execution_count": 52,
   "metadata": {},
   "outputs": [
    {
     "name": "stdout",
     "output_type": "stream",
     "text": [
      "1\n",
      "4\n",
      "9\n",
      "16\n",
      "25\n",
      "36\n",
      "49\n",
      "64\n",
      "81\n",
      "100\n"
     ]
    }
   ],
   "source": [
    "for i in range(1, 11):\n",
    "    print(i ** 2)"
   ]
  },
  {
   "cell_type": "code",
   "execution_count": 53,
   "metadata": {},
   "outputs": [
    {
     "data": {
      "text/plain": [
       "[1, 4, 9, 16, 25, 36, 49, 64, 81, 100]"
      ]
     },
     "execution_count": 53,
     "metadata": {},
     "output_type": "execute_result"
    }
   ],
   "source": [
    "[i ** 2 for i in range(1, 11)]"
   ]
  },
  {
   "cell_type": "code",
   "execution_count": 57,
   "metadata": {},
   "outputs": [
    {
     "name": "stdout",
     "output_type": "stream",
     "text": [
      "[1, 2, 3, 4, 5, 6, 7, 8, 9, 0]\n",
      "9\n",
      "0\n",
      "45\n",
      "10\n",
      "<class 'list'>\n"
     ]
    }
   ],
   "source": [
    "digits: list[int] = [1, 2, 3, 4, 5, 6, 7, 8, 9, 0]\n",
    "print(digits)\n",
    "print(max(digits))\n",
    "print(min(digits))\n",
    "print(sum(digits))\n",
    "print(len(digits))\n",
    "print(type(digits))"
   ]
  },
  {
   "cell_type": "code",
   "execution_count": 58,
   "metadata": {},
   "outputs": [
    {
     "name": "stdout",
     "output_type": "stream",
     "text": [
      "['cake', 'pastry', 'biscuit']\n",
      "['cake', 'pastry', 'biscuit']\n",
      "['cake', 'pastry', 'biscuit']\n",
      "['rush', 'pastry', 'biscuit']\n"
     ]
    }
   ],
   "source": [
    "# deep copy\n",
    "my_food: list[str] = ['cake', 'pastry', 'biscuit']\n",
    "new_food: list[str] = my_food[:]  \n",
    "\n",
    "print(my_food)\n",
    "print(new_food)\n",
    "\n",
    "new_food[0] = \"rush\"\n",
    "\n",
    "print(my_food)\n",
    "print(new_food)"
   ]
  },
  {
   "attachments": {},
   "cell_type": "markdown",
   "metadata": {},
   "source": [
    "# if-elif-else Statement\n"
   ]
  },
  {
   "cell_type": "code",
   "execution_count": 1,
   "metadata": {},
   "outputs": [
    {
     "name": "stdout",
     "output_type": "stream",
     "text": [
      "Hi! I am Hussain\n"
     ]
    }
   ],
   "source": [
    "if True:\n",
    "    print(\"Hi! I am Hussain\")\n",
    "else:\n",
    "    print(\"Hello! World.\")"
   ]
  },
  {
   "cell_type": "code",
   "execution_count": 2,
   "metadata": {},
   "outputs": [
    {
     "name": "stdout",
     "output_type": "stream",
     "text": [
      "Hello! World.\n"
     ]
    }
   ],
   "source": [
    "if False:\n",
    "    print(\"Hi! I am Hussain\")\n",
    "else:\n",
    "    print(\"Hello! World.\")"
   ]
  },
  {
   "cell_type": "code",
   "execution_count": 4,
   "metadata": {},
   "outputs": [
    {
     "name": "stdout",
     "output_type": "stream",
     "text": [
      "Hi! I am Hussain\n",
      "Hello! World.\n"
     ]
    }
   ],
   "source": [
    "# Comprehensive Style\n",
    "print(\"Hi! I am Hussain\") if True else print(\"Hello! World.\")\n",
    "print(\"Hi! I am Hussain\") if False else print(\"Hello! World.\")"
   ]
  },
  {
   "cell_type": "code",
   "execution_count": 7,
   "metadata": {},
   "outputs": [
    {
     "name": "stdout",
     "output_type": "stream",
     "text": [
      "Dear Student! As per your 75 %age, your grade is: A\n"
     ]
    }
   ],
   "source": [
    "from typing import Union\n",
    "percentage: Union[int, float] = int(input(\"Please Enter your Percentage: \"))\n",
    "# a: str | int may also be used\n",
    "# b: Optional[str] = None also work\n",
    "grade: Union[str, None] = None\n",
    "if percentage >= 80:\n",
    "    grade = \"A+\"\n",
    "elif percentage >= 70:\n",
    "    grade = \"A\"\n",
    "elif percentage >= 60:\n",
    "    grade = \"B\"\n",
    "elif percentage >= 50:\n",
    "    grade = \"C\"\n",
    "elif percentage >= 40:\n",
    "    grade = \"D\"\n",
    "elif percentage >= 33.33:\n",
    "    grade = \"E\"\n",
    "else:\n",
    "    grade = \"F\"\n",
    "print(f\"Dear Student! As per your {percentage} %age, your grade is: {grade}\")"
   ]
  },
  {
   "cell_type": "code",
   "execution_count": 10,
   "metadata": {},
   "outputs": [
    {
     "name": "stdout",
     "output_type": "stream",
     "text": [
      "Dear Student! As per your 84.56 %age, your grade is: A+\n"
     ]
    }
   ],
   "source": [
    "from typing import Optional \n",
    "percentage: int | float = float(input(\"Please Enter your Percentage: \"))\n",
    "grade: Optional [str] = None\n",
    "if (percentage >= 0) and (percentage <= 33.33):\n",
    "    grade = \"F\"\n",
    "elif (percentage >= 33.33) and (percentage <= 40):\n",
    "    grade = \"E\"\n",
    "elif (percentage >= 40) and (percentage <= 50):\n",
    "    grade = \"D\"\n",
    "elif (percentage >= 50) and (percentage <= 60):\n",
    "    grade = \"C\"\n",
    "elif (percentage >= 60) and (percentage <= 70):\n",
    "    grade = \"B\"\n",
    "elif (percentage >= 70) and (percentage <= 80):\n",
    "    grade = \"A\"\n",
    "else:\n",
    "    grade = \"A+\"\n",
    "print(f\"Dear Student! As per your {percentage} %age, your grade is: {grade}\")"
   ]
  },
  {
   "attachments": {},
   "cell_type": "markdown",
   "metadata": {},
   "source": [
    "# zip function"
   ]
  },
  {
   "cell_type": "code",
   "execution_count": 25,
   "metadata": {},
   "outputs": [
    {
     "name": "stdout",
     "output_type": "stream",
     "text": [
      "[45, 75, 88, 76, 59, 33, 78, 92, 55]\n",
      "['D', 'A', 'A+', 'A', 'C', 'F', 'A', 'A+', 'C']\n",
      "[0, 1, 2, 3, 4, 5, 6, 7, 8]\n",
      "[(0, 45, 'D'), (1, 75, 'A'), (2, 88, 'A+'), (3, 76, 'A'), (4, 59, 'C'), (5, 33, 'F'), (6, 78, 'A'), (7, 92, 'A+'), (8, 55, 'C')]\n"
     ]
    },
    {
     "data": {
      "text/plain": [
       "[(7, 92, 'A+'),\n",
       " (2, 88, 'A+'),\n",
       " (6, 78, 'A'),\n",
       " (3, 76, 'A'),\n",
       " (1, 75, 'A'),\n",
       " (4, 59, 'C'),\n",
       " (8, 55, 'C'),\n",
       " (0, 45, 'D'),\n",
       " (5, 33, 'F')]"
      ]
     },
     "execution_count": 25,
     "metadata": {},
     "output_type": "execute_result"
    }
   ],
   "source": [
    "from typing import Union\n",
    "MyType = Union[int, float]\n",
    "percentages: list[MyType] = [45, 75, 88, 76, 59, 33, 78, 92, 55]\n",
    "grades: list[str] = []\n",
    "for percentage in percentages:\n",
    "    grade: str = \"\"\n",
    "    if (percentage >= 0) and (percentage <= 33.33):\n",
    "        grade = \"F\"\n",
    "    elif (percentage >= 33.33) and (percentage <= 40):\n",
    "        grade = \"E\"\n",
    "    elif (percentage >= 40) and (percentage <= 50):\n",
    "        grade = \"D\"\n",
    "    elif (percentage >= 50) and (percentage <= 60):\n",
    "        grade = \"C\"\n",
    "    elif (percentage >= 60) and (percentage <= 70):\n",
    "        grade = \"B\"\n",
    "    elif (percentage >= 70) and (percentage <= 80):\n",
    "        grade = \"A\"\n",
    "    else:\n",
    "        grade = \"A+\"\n",
    "    grades.append(grade)\n",
    "print(percentages)\n",
    "print(grades)\n",
    "results: int = list(range(len(percentages)))\n",
    "print(results)\n",
    "data = list(zip(results, percentages, grades))\n",
    "print(data)\n",
    "sorted(data, key = lambda x:x[1], reverse = True)"
   ]
  }
 ],
 "metadata": {
  "kernelspec": {
   "display_name": "python12",
   "language": "python",
   "name": "python3"
  },
  "language_info": {
   "codemirror_mode": {
    "name": "ipython",
    "version": 3
   },
   "file_extension": ".py",
   "mimetype": "text/x-python",
   "name": "python",
   "nbconvert_exporter": "python",
   "pygments_lexer": "ipython3",
   "version": "3.12.0"
  },
  "orig_nbformat": 4
 },
 "nbformat": 4,
 "nbformat_minor": 2
}
