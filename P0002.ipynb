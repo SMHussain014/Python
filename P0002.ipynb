{
 "cells": [
  {
   "attachments": {},
   "cell_type": "markdown",
   "metadata": {},
   "source": [
    "# Declaring Variable and Printing a Message"
   ]
  },
  {
   "attachments": {},
   "cell_type": "markdown",
   "metadata": {},
   "source": [
    "First Method"
   ]
  },
  {
   "cell_type": "code",
   "execution_count": 11,
   "metadata": {},
   "outputs": [
    {
     "name": "stdout",
     "output_type": "stream",
     "text": [
      "Personal Info:\n",
      "Name: Syed Muhammad Hussain\n",
      "Father's Name: Syed Zahoor Ahmed\n",
      "Qualification: Master in \"Data Science\"\n",
      "Age: 43 years\n",
      "Country: 'Pakistan'\n"
     ]
    }
   ],
   "source": [
    "my_name: str = \"Syed Muhammad Hussain\"\n",
    "father_name: str = 'Syed Zahoor Ahmed'\n",
    "education: str = 'Master in \"Data Science\"'\n",
    "age: int = 43\n",
    "country_name: str = \"'Pakistan'\"\n",
    "message: str = \"Personal Info:\\nName: \" + my_name + \"\\nFather\\'s Name: \" + father_name + \"\\nQualification: \" + education + \"\\nAge: \" + str(age) + \" years\" + \"\\nCountry: \" + country_name \n",
    "print(message)"
   ]
  },
  {
   "attachments": {},
   "cell_type": "markdown",
   "metadata": {},
   "source": [
    "Second Method: Line Break ( \\ )"
   ]
  },
  {
   "cell_type": "code",
   "execution_count": 19,
   "metadata": {},
   "outputs": [
    {
     "name": "stdout",
     "output_type": "stream",
     "text": [
      "Personal Info:    \n",
      "Name:Syed Muhammad Hussain    \n",
      "Father's Name: Syed Zahoor Ahmed    \n",
      "Qualification: Master in \"Data Science\"    \n",
      "Age: 43 years    \n",
      "Country: 'Pakistan'\n"
     ]
    }
   ],
   "source": [
    "my_name: str = \"Syed Muhammad Hussain\"\n",
    "father_name: str = 'Syed Zahoor Ahmed'\n",
    "education: str = 'Master in \"Data Science\"'\n",
    "age: int = 43\n",
    "country_name: str = \"'Pakistan'\"\n",
    "message: str = \"Personal Info:\\\n",
    "    \\nName:\" + my_name + \"\\\n",
    "    \\nFather\\'s Name: \" + father_name + \"\\\n",
    "    \\nQualification: \" + education + \"\\\n",
    "    \\nAge: \" + str(age) + \" years\" + \"\\\n",
    "    \\nCountry: \" + country_name \n",
    "print(message)d"
   ]
  },
  {
   "attachments": {},
   "cell_type": "markdown",
   "metadata": {},
   "source": [
    "Third Method: Multiline String (\"\"\" or ''') with Place-holder (%s, %d)"
   ]
  },
  {
   "cell_type": "code",
   "execution_count": 40,
   "metadata": {},
   "outputs": [
    {
     "name": "stdout",
     "output_type": "stream",
     "text": [
      "\n",
      "Personal Info:\n",
      "Name: Syed Muhammad Hussain\n",
      "Father's Name: Syed Zahoor Ahmed\n",
      "Qualification: Master in \"Data Science\"\n",
      "Age: 43 years\n",
      "Country: 'Pakistan'\n",
      "\n"
     ]
    }
   ],
   "source": [
    "my_name: str = \"Syed Muhammad Hussain\"\n",
    "father_name: str = 'Syed Zahoor Ahmed'\n",
    "education: str = 'Master in \"Data Science\"'\n",
    "age: int = 43\n",
    "country_name: str = \"'Pakistan'\"\n",
    "message: str = f\"\"\"\n",
    "Personal Info:\n",
    "Name: %s\n",
    "Father's Name: %s\n",
    "Qualification: %s\n",
    "Age: %d years\n",
    "Country: %s\n",
    "\"\"\" % (my_name, father_name, education,age,country_name)\n",
    "print(message)"
   ]
  },
  {
   "attachments": {},
   "cell_type": "markdown",
   "metadata": {},
   "source": [
    "Fourth Method: Multiline String (\"\"\" or ''') with 'Python's f-string'"
   ]
  },
  {
   "cell_type": "code",
   "execution_count": 35,
   "metadata": {},
   "outputs": [
    {
     "name": "stdout",
     "output_type": "stream",
     "text": [
      "\n",
      "Personal Info:\n",
      "Name: Syed Muhammad Hussain\n",
      "Father's Name: Syed Zahoor Ahmed\n",
      "Qualification: Master in \"Data Science\"\n",
      "Age: 43 years\n",
      "Country: 'Pakistan'\n",
      "\n"
     ]
    }
   ],
   "source": [
    "my_name: str = \"Syed Muhammad Hussain\"\n",
    "father_name: str = 'Syed Zahoor Ahmed'\n",
    "education: str = 'Master in \"Data Science\"'\n",
    "age: int = 43\n",
    "country_name: str = \"'Pakistan'\"\n",
    "message: str = f\"\"\"\n",
    "Personal Info:\n",
    "Name: {my_name}\n",
    "Father's Name: {father_name}\n",
    "Qualification: {education}\n",
    "Age: {age} years\n",
    "Country: {country_name}\n",
    "\"\"\"\n",
    "print(message)"
   ]
  },
  {
   "cell_type": "code",
   "execution_count": 36,
   "metadata": {},
   "outputs": [
    {
     "ename": "SyntaxError",
     "evalue": "invalid syntax (3130043991.py, line 1)",
     "output_type": "error",
     "traceback": [
      "\u001b[1;36m  Cell \u001b[1;32mIn[36], line 1\u001b[1;36m\u001b[0m\n\u001b[1;33m    Jinja Style:\u001b[0m\n\u001b[1;37m          ^\u001b[0m\n\u001b[1;31mSyntaxError\u001b[0m\u001b[1;31m:\u001b[0m invalid syntax\n"
     ]
    }
   ],
   "source": [
    "Jinja Style:\n",
    "In web development, we use jinja style instead of f-string\n",
    "my_name: str = \"Syed Muhammad Hussain\"\n",
    "father_name: str = 'Syed Zahoor Ahmed'\n",
    "education: str = 'Master in \"Data Science\"'\n",
    "age: int = 43\n",
    "country_name: str = \"'Pakistan'\"\n",
    "message: str = \"\"\"\n",
    "Personal Info:\n",
    "Name: {{my_name}}\n",
    "Father's Name: {{father_name}}\n",
    "Qualification: {{education}}\n",
    "Age: {{age}} years\n",
    "Country: {{country_name}}\n",
    "\"\"\"\n",
    "print(message)"
   ]
  },
  {
   "attachments": {},
   "cell_type": "markdown",
   "metadata": {},
   "source": [
    "# String Methods"
   ]
  },
  {
   "cell_type": "code",
   "execution_count": 41,
   "metadata": {},
   "outputs": [
    {
     "name": "stdout",
     "output_type": "stream",
     "text": [
      "Use of different types of data without casting.\n",
      "I want 5 kg apples for 30.5 dollars.\n"
     ]
    }
   ],
   "source": [
    "print(\"Use of different types of data without casting.\")\n",
    "statement: str = \"I want {} kg {} for {} dollars.\"\n",
    "items: str = \"apples\"; quantity: int = 5; price: float = 30.50\n",
    "print(statement.format(quantity, items, price))"
   ]
  },
  {
   "cell_type": "code",
   "execution_count": 47,
   "metadata": {},
   "outputs": [
    {
     "name": "stdout",
     "output_type": "stream",
     "text": [
      "The value of a = 5 and b = 7.\n"
     ]
    }
   ],
   "source": [
    "a: int = 5\n",
    "b: int = 7\n",
    "# Place-holder {}\n",
    "print(\"The value of a = {} and b = {}.\".format(a, b))"
   ]
  },
  {
   "cell_type": "code",
   "execution_count": 56,
   "metadata": {},
   "outputs": [
    {
     "name": "stdout",
     "output_type": "stream",
     "text": [
      "The aim of this program is to divide full name into parts.\n",
      "Hello!, Hussain Syed\n",
      "Hello!, Muhammad Hussain\n"
     ]
    }
   ],
   "source": [
    "print(\"The aim of this program is to divide full name into parts.\")\n",
    "first: str = \"Syed\"\n",
    "middle: str = \"Muhammad\"\n",
    "last: str = \"Hussain\"\n",
    "full_name = \"f{first} {middle} {last}\"\n",
    "full_name.split(\" \")\n",
    "print(f\"Hello!, {last} {first}\")\n",
    "print(f\"Hello!, {middle} {last}\")"
   ]
  },
  {
   "cell_type": "code",
   "execution_count": 58,
   "metadata": {},
   "outputs": [
    {
     "name": "stdout",
     "output_type": "stream",
     "text": [
      "\n",
      "Personal Info:\n",
      "Name: Syed Muhammad Hussain\n",
      "Father's Name: Syed Zahoor Ahmed\n",
      "Qualification: Master in \"Data Science\"\n",
      "Age: 43 years\n",
      "Country: 'Pakistan'\n",
      "\n"
     ]
    }
   ],
   "source": [
    "my_name: str = \"Syed Muhammad Hussain\"\n",
    "father_name: str = 'Syed Zahoor Ahmed'\n",
    "education: str = 'Master in \"Data Science\"'\n",
    "age: int = 43\n",
    "country_name: str = \"'Pakistan'\"\n",
    "message: str = \"\"\"\n",
    "Personal Info:\n",
    "Name: {a}\n",
    "Father's Name: {b}\n",
    "Qualification: {c}\n",
    "Age: {d} years\n",
    "Country: {e}\n",
    "\"\"\".format(a=my_name, b=father_name, c=education, d=age, e=country_name)\n",
    "print(message)"
   ]
  },
  {
   "cell_type": "code",
   "execution_count": 6,
   "metadata": {},
   "outputs": [
    {
     "data": {
      "text/plain": [
       "'    Muhammad    Hussain    '"
      ]
     },
     "metadata": {},
     "output_type": "display_data"
    },
    {
     "data": {
      "text/plain": [
       "'Muhammad    Hussain'"
      ]
     },
     "metadata": {},
     "output_type": "display_data"
    }
   ],
   "source": [
    "import re\n",
    "name: str = \"    Muhammad    Hussain    \"\n",
    "display(name)\n",
    "revised_name: str = re.sub('{2, 100}', ' ', name).strip()\n",
    "display(revised_name)"
   ]
  },
  {
   "attachments": {},
   "cell_type": "markdown",
   "metadata": {},
   "source": [
    "# Eric Matthes - Python Crash Course"
   ]
  }
 ],
 "metadata": {
  "kernelspec": {
   "display_name": "python12",
   "language": "python",
   "name": "python3"
  },
  "language_info": {
   "codemirror_mode": {
    "name": "ipython",
    "version": 3
   },
   "file_extension": ".py",
   "mimetype": "text/x-python",
   "name": "python",
   "nbconvert_exporter": "python",
   "pygments_lexer": "ipython3",
   "version": "3.12.0"
  },
  "orig_nbformat": 4
 },
 "nbformat": 4,
 "nbformat_minor": 2
}
