{
 "cells": [
  {
   "attachments": {},
   "cell_type": "markdown",
   "metadata": {},
   "source": [
    "# List Data Type []\n"
   ]
  },
  {
   "cell_type": "code",
   "execution_count": 6,
   "metadata": {},
   "outputs": [
    {
     "name": "stdout",
     "output_type": "stream",
     "text": [
      "Hussain\n",
      "Hussain\n",
      "HASSAN\n",
      "hassan\n",
      "Hassan\n",
      "3\n",
      "<class 'list'>\n",
      "<class 'str'>\n"
     ]
    }
   ],
   "source": [
    "names: list[str] = [\"Ali\", \"hassan\", \"Hussain\"]\n",
    "print(names[2])\n",
    "print(names[-1])\n",
    "print(f\"{names[1].upper()}\")\n",
    "print(f\"{names[1].lower()}\")\n",
    "print(f\"{names[1].title()}\")\n",
    "print(len(names))\n",
    "print(type(names))\n",
    "print(type(names[1]))"
   ]
  },
  {
   "cell_type": "code",
   "execution_count": 7,
   "metadata": {},
   "outputs": [
    {
     "name": "stdout",
     "output_type": "stream",
     "text": [
      "Hassan\n"
     ]
    }
   ],
   "source": [
    "from typing import Any\n",
    "names: list[Any] = [\"Ali\", \"Hassan\", \"Hussain\"]\n",
    "print(f\"{names[1]}\")"
   ]
  },
  {
   "attachments": {},
   "cell_type": "markdown",
   "metadata": {},
   "source": [
    "# Slicing"
   ]
  },
  {
   "attachments": {},
   "cell_type": "markdown",
   "metadata": {},
   "source": [
    "# slicing\n",
    "start: int = include\n",
    "end: int = n-1 (not included)\n",
    "step: int = sequence\n",
    "variable's name[start:end:sequence]\n",
    "characters = List[str] = list(\"ABCDEFGHIJKLMNOPQRSTUVWXYZ\")\n",
    "list constructor - list acts like a function and perform iteration\n"
   ]
  },
  {
   "cell_type": "code",
   "execution_count": 8,
   "metadata": {},
   "outputs": [
    {
     "name": "stdout",
     "output_type": "stream",
     "text": [
      "['A', 'B', 'C', 'D', 'E', 'F', 'G', 'H', 'I', 'J', 'K', 'L', 'M', 'N', 'O', 'P', 'Q', 'R', 'S', 'T', 'U', 'V', 'W', 'X', 'Y', 'Z']\n",
      "['A', 'B', 'C']\n",
      "['A', 'B', 'C']\n",
      "['D', 'E', 'F', 'G', 'H', 'I', 'J', 'K', 'L', 'M', 'N', 'O', 'P', 'Q', 'R', 'S', 'T', 'U', 'V', 'W', 'X', 'Y', 'Z']\n",
      "['A', 'B', 'C']\n",
      "['A', 'C', 'E', 'G', 'I']\n",
      "['A', 'C', 'E', 'G', 'I', 'K', 'M', 'O', 'Q', 'S', 'U', 'W', 'Y']\n",
      "['Z', 'Y', 'X', 'W', 'V', 'U', 'T', 'S', 'R', 'Q', 'P', 'O', 'N', 'M', 'L', 'K', 'J', 'I', 'H', 'G', 'F', 'E', 'D', 'C', 'B', 'A']\n",
      "[]\n",
      "['Z', 'Y', 'X']\n"
     ]
    }
   ],
   "source": [
    "characters: list[str] = list(\"ABCDEFGHIJKLMNOPQRSTUVWXYZ\")\n",
    "print(characters)\n",
    "letters: list[str] = ['A', 'B', 'C', 'D', 'E', 'F', 'G', 'H', 'I', 'J', 'K', 'L', 'M', 'N', 'O', 'P', 'Q', 'R', 'S', 'T', 'U', 'V', 'W', 'X', 'Y', 'Z']\n",
    "print(letters[0:3:])\n",
    "print(letters[:3])\n",
    "print(letters[3:])\n",
    "print(letters[-26:-23])\n",
    "print(letters[0:10:2])\n",
    "print(letters[::2])\n",
    "print(letters[::-1])\n",
    "print(letters[-1:-4])\n",
    "print(letters[-1:-4:-1])"
   ]
  },
  {
   "attachments": {},
   "cell_type": "markdown",
   "metadata": {},
   "source": [
    "# List Methods"
   ]
  },
  {
   "cell_type": "code",
   "execution_count": 30,
   "metadata": {},
   "outputs": [
    {
     "data": {
      "text/plain": [
       "['append',\n",
       " 'clear',\n",
       " 'copy',\n",
       " 'count',\n",
       " 'extend',\n",
       " 'index',\n",
       " 'insert',\n",
       " 'pop',\n",
       " 'remove',\n",
       " 'reverse',\n",
       " 'sort']"
      ]
     },
     "execution_count": 30,
     "metadata": {},
     "output_type": "execute_result"
    }
   ],
   "source": [
    "[i for i in dir(list) if (\"__\") not in i]"
   ]
  },
  {
   "attachments": {},
   "cell_type": "markdown",
   "metadata": {},
   "source": [
    "# How to get help from Python\n",
    "* help(object)\n",
    "* object?\n",
    "* object??\n",
    "* ?Object\n",
    "* ??object\n",
    "\n",
    "* To make a heading, add # before that heading\n",
    "* TO make a unordered list, add * before that item"
   ]
  },
  {
   "cell_type": "code",
   "execution_count": 9,
   "metadata": {},
   "outputs": [
    {
     "name": "stdout",
     "output_type": "stream",
     "text": [
      "['Ali', 'Hassan', 'Hussain', 20, True]\n",
      "Ali\n",
      "['Muhammad Ali', 'Hassan', 'Hussain', 20, True]\n",
      "Muhammad Ali\n",
      "['Muhammad Ali', 'Hassan', 'Hussain', 20]\n"
     ]
    }
   ],
   "source": [
    "names: list[str] = [\"Ali\", \"Hassan\", \"Hussain\", 20, True]\n",
    "print(names)\n",
    "print(names[0])\n",
    "names[0] = \"Muhammad Ali\"\n",
    "print(names)\n",
    "print(names[0])\n",
    "del names[4]\n",
    "print(names)"
   ]
  },
  {
   "cell_type": "code",
   "execution_count": 10,
   "metadata": {},
   "outputs": [
    {
     "name": "stdout",
     "output_type": "stream",
     "text": [
      "['Ali', 'Hassan', 'Hussain', 20, True]\n",
      "['Ali', 'Hassan', 'Hussain', 20]\n",
      "True\n",
      "['Ali', 'Hassan', 'Hussain']\n",
      "20\n"
     ]
    }
   ],
   "source": [
    "names: list[str] = [\"Ali\", \"Hassan\", \"Hussain\", 20, True]\n",
    "print(names)\n",
    "a: list[str] = names.pop()\n",
    "print(names)\n",
    "print(a)\n",
    "b: list[str] = names.pop(3)\n",
    "print(names)\n",
    "print(b)"
   ]
  },
  {
   "cell_type": "code",
   "execution_count": 11,
   "metadata": {},
   "outputs": [
    {
     "name": "stdout",
     "output_type": "stream",
     "text": [
      "['Ali', 'Hassan', 'Hussain', 20, True]\n",
      "['Ali', 'Hassan', 'Hussain', 20]\n",
      "None\n"
     ]
    }
   ],
   "source": [
    "names: list[str] = [\"Ali\", \"Hassan\", \"Hussain\", 20, True]\n",
    "print(names)\n",
    "a: list[str] = names.remove(True)\n",
    "print(names)\n",
    "print(a)"
   ]
  },
  {
   "cell_type": "code",
   "execution_count": 12,
   "metadata": {},
   "outputs": [
    {
     "name": "stdout",
     "output_type": "stream",
     "text": [
      "['Ali', 'Hassan', 'Hussain', 20, True]\n",
      "[]\n",
      "None\n"
     ]
    }
   ],
   "source": [
    "names: list[str] = [\"Ali\", \"Hassan\", \"Hussain\", 20, True]\n",
    "print(names)\n",
    "a: list[str] = names.clear()\n",
    "print(names)\n",
    "print(a)"
   ]
  },
  {
   "cell_type": "code",
   "execution_count": 13,
   "metadata": {},
   "outputs": [
    {
     "name": "stdout",
     "output_type": "stream",
     "text": [
      "[]\n",
      "['Ali']\n",
      "['Ali', 'Hassan']\n",
      "['Ali', 'Hassan', 'Hussain']\n",
      "['Ali', 'Hassan', 'Hussain', 20]\n",
      "['Ali', 'Hassan', 'Hussain', 20, True]\n"
     ]
    }
   ],
   "source": [
    "names: list[str] = []\n",
    "print(names)\n",
    "names.append(\"Ali\")\n",
    "print(names)\n",
    "names.append(\"Hassan\")\n",
    "print(names)\n",
    "names.append(\"Hussain\")\n",
    "print(names)\n",
    "names.append(20)\n",
    "print(names)\n",
    "names.append(True)\n",
    "print(names)"
   ]
  },
  {
   "cell_type": "code",
   "execution_count": 14,
   "metadata": {},
   "outputs": [
    {
     "name": "stdout",
     "output_type": "stream",
     "text": [
      "['Ali', 'Hassan', 'Hussain', 20]\n",
      "['Ali', 'Hassan', 'Hussain', 20, False]\n"
     ]
    }
   ],
   "source": [
    "names: list[str] = [\"Ali\", \"Hassan\", \"Hussain\", 20]\n",
    "print(names)\n",
    "names.insert(4, False)\n",
    "print(names)"
   ]
  },
  {
   "cell_type": "code",
   "execution_count": 15,
   "metadata": {},
   "outputs": [
    {
     "name": "stdout",
     "output_type": "stream",
     "text": [
      "['A', 'B', 'C', 'D']\n",
      "['A', 'B', 'C', 'D']\n",
      "['A', 'B', 'C', 'E']\n",
      "['A', 'B', 'C', 'E']\n"
     ]
    }
   ],
   "source": [
    "a: list[str] = [\"A\", \"B\", \"C\", \"D\"]\n",
    "b: list[str] = a  # shallow copy \n",
    "print(a)\n",
    "print(b)\n",
    "b[3] = \"E\"\n",
    "print(a)\n",
    "print(b)"
   ]
  },
  {
   "cell_type": "code",
   "execution_count": 16,
   "metadata": {},
   "outputs": [
    {
     "name": "stdout",
     "output_type": "stream",
     "text": [
      "['A', 'B', 'C', 'D']\n",
      "['A', 'B', 'C', 'D']\n",
      "['A', 'B', 'C', 'D']\n",
      "['A', 'B', 'C', 'E']\n"
     ]
    }
   ],
   "source": [
    "a: list[str] = [\"A\", \"B\", \"C\", \"D\"]\n",
    "b: list[str] = a.copy()  # deep copy \n",
    "print(a)\n",
    "print(b)\n",
    "b[3] = \"E\"\n",
    "print(a)\n",
    "print(b)"
   ]
  },
  {
   "cell_type": "code",
   "execution_count": 17,
   "metadata": {},
   "outputs": [
    {
     "name": "stdout",
     "output_type": "stream",
     "text": [
      "['A', 'A', 'A', 'B', 'B', 'C', 'D', 'D']\n",
      "3\n"
     ]
    }
   ],
   "source": [
    "m: list[str] = [\"A\", \"A\", \"A\", \"B\", \"B\", \"C\", \"D\", \"D\"]\n",
    "print(m)\n",
    "n: list[str] = m.count(\"A\")\n",
    "print(n)"
   ]
  },
  {
   "cell_type": "code",
   "execution_count": 18,
   "metadata": {},
   "outputs": [
    {
     "name": "stdout",
     "output_type": "stream",
     "text": [
      "['Muhammad', 'Ali', 'Fatima', ['Hassan', 'Hussain']]\n"
     ]
    }
   ],
   "source": [
    "existing_members: list[str] = [\"Muhammad\", \"Ali\", \"Fatima\"]\n",
    "new_members: list[str] = [\"Hassan\", \"Hussain\"]\n",
    "existing_members.append(new_members)\n",
    "print(existing_members)"
   ]
  },
  {
   "cell_type": "code",
   "execution_count": 19,
   "metadata": {},
   "outputs": [
    {
     "name": "stdout",
     "output_type": "stream",
     "text": [
      "['Muhammad', 'Ali', 'Fatima', 'Hassan', 'Hussain']\n"
     ]
    }
   ],
   "source": [
    "existing_members: list[str] = [\"Muhammad\", \"Ali\", \"Fatima\"]\n",
    "new_members: list[str] = [\"Hassan\", \"Hussain\"]\n",
    "existing_members.extend(new_members)\n",
    "print(existing_members)"
   ]
  },
  {
   "cell_type": "code",
   "execution_count": 20,
   "metadata": {},
   "outputs": [
    {
     "name": "stdout",
     "output_type": "stream",
     "text": [
      "2\n",
      "2\n"
     ]
    }
   ],
   "source": [
    "names: list[str] = ['Muhammad', 'Ali', 'Fatima', 'Hassan', 'Hussain', 'Fatima']\n",
    "index_number: list[str] = names.index(\"Fatima\") # return only ist appearance \n",
    "print(index_number)\n",
    "index_number = names.index(\"Fatima\", 2)\n",
    "print(index_number)"
   ]
  },
  {
   "cell_type": "code",
   "execution_count": 21,
   "metadata": {},
   "outputs": [],
   "source": [
    "from typing import Any "
   ]
  },
  {
   "cell_type": "code",
   "execution_count": 22,
   "metadata": {},
   "outputs": [
    {
     "name": "stdout",
     "output_type": "stream",
     "text": [
      "['Muhammad', 'Ali', 'Fatima', 'Hassan', 'Hussain']\n",
      "['Hussain', 'Hassan', 'Fatima', 'Ali', 'Muhammad']\n"
     ]
    }
   ],
   "source": [
    "names = ['Muhammad', 'Ali', 'Fatima', 'Hassan', 'Hussain']\n",
    "print(names)\n",
    "names.reverse()\n",
    "print(names)"
   ]
  },
  {
   "cell_type": "code",
   "execution_count": 23,
   "metadata": {},
   "outputs": [
    {
     "name": "stdout",
     "output_type": "stream",
     "text": [
      "['Muhammad', 'Ali', 'Fatima', 'Hassan', 'Hussain']\n",
      "['Ali', 'Fatima', 'Hassan', 'Hussain', 'Muhammad']\n",
      "['Muhammad', 'Hussain', 'Hassan', 'Fatima', 'Ali']\n"
     ]
    }
   ],
   "source": [
    "names = ['Muhammad', 'Ali', 'Fatima', 'Hassan', 'Hussain']\n",
    "print(names)\n",
    "names.sort()\n",
    "print(names)\n",
    "names.sort(reverse = True)\n",
    "print(names)"
   ]
  }
 ],
 "metadata": {
  "kernelspec": {
   "display_name": "python12",
   "language": "python",
   "name": "python3"
  },
  "language_info": {
   "codemirror_mode": {
    "name": "ipython",
    "version": 3
   },
   "file_extension": ".py",
   "mimetype": "text/x-python",
   "name": "python",
   "nbconvert_exporter": "python",
   "pygments_lexer": "ipython3",
   "version": "3.12.0"
  },
  "orig_nbformat": 4
 },
 "nbformat": 4,
 "nbformat_minor": 2
}
