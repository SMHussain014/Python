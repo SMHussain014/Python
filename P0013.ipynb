{
 "cells": [
  {
   "attachments": {},
   "cell_type": "markdown",
   "metadata": {},
   "source": [
    "# Functions in Python\n",
    "* Pre-defined functions (Provided by a Programming Language)\n",
    "* user-defined functions (Custom Functions)\n",
    "* Return Type (We can assign a function's output to a variable) [returns a value]\n",
    "* Non-return Type (We can not assign a function's output to a variable) [returns none]\n",
    "* Function () [i.e. Pre-defined Function]\n",
    "* variable.function () [i.e. Method]"
   ]
  },
  {
   "attachments": {},
   "cell_type": "markdown",
   "metadata": {},
   "source": [
    "## Pre-defined Functions\n",
    "* print()\n",
    "* len()\n",
    "* id()\n",
    "* dir()\n",
    "* chr()\n",
    "* ord()\n",
    "* exec()"
   ]
  },
  {
   "cell_type": "code",
   "execution_count": 2,
   "metadata": {},
   "outputs": [
    {
     "name": "stdout",
     "output_type": "stream",
     "text": [
      "Pakistan\n"
     ]
    },
    {
     "data": {
      "text/plain": [
       "None"
      ]
     },
     "metadata": {},
     "output_type": "display_data"
    }
   ],
   "source": [
    "a: str = print(\"Pakistan\")\n",
    "display(a) # none-return function"
   ]
  },
  {
   "cell_type": "code",
   "execution_count": 3,
   "metadata": {},
   "outputs": [
    {
     "name": "stdout",
     "output_type": "stream",
     "text": [
      "8\n"
     ]
    }
   ],
   "source": [
    "a: str = len(\"Pakistan\")\n",
    "print(a) # return function"
   ]
  },
  {
   "attachments": {},
   "cell_type": "markdown",
   "metadata": {},
   "source": [
    "## User-defined Functions\n",
    "* Function declaration\n",
    "* Function body\n",
    "* Function calling"
   ]
  },
  {
   "attachments": {},
   "cell_type": "markdown",
   "metadata": {},
   "source": [
    "### Default Function (It takes no argument)"
   ]
  },
  {
   "cell_type": "code",
   "execution_count": 5,
   "metadata": {},
   "outputs": [
    {
     "name": "stdout",
     "output_type": "stream",
     "text": [
      " Welcome to Python \n"
     ]
    }
   ],
   "source": [
    "def welcome() -> None:\n",
    "    a: str = \"\"\" Welcome to Python \"\"\"\n",
    "    print(a)\n",
    "welcome()"
   ]
  },
  {
   "attachments": {},
   "cell_type": "markdown",
   "metadata": {},
   "source": [
    "### Return Function"
   ]
  },
  {
   "cell_type": "code",
   "execution_count": 80,
   "metadata": {},
   "outputs": [
    {
     "name": "stdout",
     "output_type": "stream",
     "text": [
      "2 3\n"
     ]
    },
    {
     "data": {
      "text/plain": [
       "5"
      ]
     },
     "execution_count": 80,
     "metadata": {},
     "output_type": "execute_result"
    }
   ],
   "source": [
    "def sum(num1: int, num2: int) -> int: # parameters\n",
    "    total: int = num1 + num2\n",
    "    print(num1, num2)\n",
    "    return total\n",
    "sum(2, 3) # positional argument"
   ]
  },
  {
   "cell_type": "code",
   "execution_count": 79,
   "metadata": {},
   "outputs": [
    {
     "name": "stdout",
     "output_type": "stream",
     "text": [
      "2 3\n"
     ]
    },
    {
     "data": {
      "text/plain": [
       "5"
      ]
     },
     "execution_count": 79,
     "metadata": {},
     "output_type": "execute_result"
    }
   ],
   "source": [
    "def sum(num1: int, num2: int) -> int: # parameters\n",
    "    total: int = num1 + num2\n",
    "    print(num1, num2)\n",
    "    return total\n",
    "sum(num2 = 3, num1 = 2) # keywords argument"
   ]
  },
  {
   "attachments": {},
   "cell_type": "markdown",
   "metadata": {},
   "source": [
    "### Function with Default or Optional Parameter"
   ]
  },
  {
   "cell_type": "code",
   "execution_count": 10,
   "metadata": {},
   "outputs": [
    {
     "data": {
      "text/plain": [
       "7"
      ]
     },
     "execution_count": 10,
     "metadata": {},
     "output_type": "execute_result"
    }
   ],
   "source": [
    "def sum(num1: int, num2: int = 0) -> int: # parameters (parameter may be default or optional)\n",
    "    total: int = num1 + num2\n",
    "    return total\n",
    "sum(7) # argument"
   ]
  },
  {
   "cell_type": "code",
   "execution_count": 11,
   "metadata": {},
   "outputs": [
    {
     "data": {
      "text/plain": [
       "9"
      ]
     },
     "execution_count": 11,
     "metadata": {},
     "output_type": "execute_result"
    }
   ],
   "source": [
    "def sum(num1: int, num2: int = 0) -> int: # parameters (parameter may be default or optional)\n",
    "    total: int = num1 + num2\n",
    "    return total\n",
    "sum(7, 2) # argument"
   ]
  },
  {
   "attachments": {},
   "cell_type": "markdown",
   "metadata": {},
   "source": [
    "### lambda Function"
   ]
  },
  {
   "cell_type": "code",
   "execution_count": 30,
   "metadata": {},
   "outputs": [
    {
     "data": {
      "text/plain": [
       "7"
      ]
     },
     "execution_count": 30,
     "metadata": {},
     "output_type": "execute_result"
    }
   ],
   "source": [
    "sum = lambda num1, num2: num1 + num2\n",
    "sum(3, 4)"
   ]
  },
  {
   "cell_type": "code",
   "execution_count": 47,
   "metadata": {},
   "outputs": [
    {
     "data": {
      "text/plain": [
       "7"
      ]
     },
     "execution_count": 47,
     "metadata": {},
     "output_type": "execute_result"
    }
   ],
   "source": [
    "from typing import Callable\n",
    "sum: Callable[[int, int], int] = lambda num1, num2: num1 + num2\n",
    "sum(3, 4)"
   ]
  },
  {
   "cell_type": "code",
   "execution_count": 20,
   "metadata": {},
   "outputs": [
    {
     "name": "stdout",
     "output_type": "stream",
     "text": [
      "[1, 4, 9, 16, 25, 36, 49, 64, 81, 100]\n"
     ]
    }
   ],
   "source": [
    "data_numbers: list[int] = [1, 2, 3, 4, 5, 6, 7, 8, 9, 10]\n",
    "data_squares = list(map(lambda x: x**2, data_numbers))\n",
    "print(data_squares)"
   ]
  },
  {
   "cell_type": "code",
   "execution_count": 25,
   "metadata": {},
   "outputs": [
    {
     "name": "stdout",
     "output_type": "stream",
     "text": [
      "[2, 4, 6, 8, 10]\n"
     ]
    }
   ],
   "source": [
    "data_numbers: list[int] = [1, 2, 3, 4, 5, 6, 7, 8, 9, 10]\n",
    "is_even = list(filter(lambda x: x % 2 == 0, data_numbers))\n",
    "print(is_even)"
   ]
  },
  {
   "attachments": {},
   "cell_type": "markdown",
   "metadata": {},
   "source": [
    "### Generator Function"
   ]
  },
  {
   "cell_type": "code",
   "execution_count": 73,
   "metadata": {},
   "outputs": [
    {
     "name": "stdout",
     "output_type": "stream",
     "text": [
      "<generator object my_range at 0x000001E7D06F95D0>\n",
      "<class 'generator'>\n",
      "[1, 2, 3, 4, 5]\n"
     ]
    }
   ],
   "source": [
    "from collections.abc import Iterator\n",
    "def my_range(start: int, end: int, step: int = 1) -> Iterator[int]:\n",
    "    for r in range(start, end + 1, step):\n",
    "        yield r # keyword for generator function\n",
    "result: Iterator[int] = my_range(1, 5)\n",
    "print(result)\n",
    "print(type(result))\n",
    "print(list(result))\n",
    "# print(next(result))\n",
    "for i in result:\n",
    "    print(result)"
   ]
  },
  {
   "attachments": {},
   "cell_type": "markdown",
   "metadata": {},
   "source": [
    "### Passing unlimited arguments"
   ]
  },
  {
   "cell_type": "code",
   "execution_count": 77,
   "metadata": {},
   "outputs": [
    {
     "name": "stdout",
     "output_type": "stream",
     "text": [
      "(1, 2, 3)\n",
      "<class 'tuple'>\n"
     ]
    },
    {
     "data": {
      "text/plain": [
       "6"
      ]
     },
     "execution_count": 77,
     "metadata": {},
     "output_type": "execute_result"
    }
   ],
   "source": [
    "def sum(*nums):\n",
    "    print(nums)\n",
    "    print(type(nums))\n",
    "    total = 0\n",
    "    for n in nums:\n",
    "        total += n\n",
    "    return total\n",
    "sum(1, 2, 3) # it returns tuple"
   ]
  },
  {
   "cell_type": "code",
   "execution_count": 82,
   "metadata": {},
   "outputs": [
    {
     "name": "stdout",
     "output_type": "stream",
     "text": [
      "{'a': 1, 'b': 2, 'c': 3}\n",
      "<class 'dict'>\n"
     ]
    }
   ],
   "source": [
    "def sum(**nums): # keyword parameter\n",
    "    print(nums)\n",
    "    print(type(nums))\n",
    "sum(a = 1, b = 2, c = 3) # it returns dictionary"
   ]
  },
  {
   "cell_type": "code",
   "execution_count": 90,
   "metadata": {},
   "outputs": [
    {
     "name": "stdout",
     "output_type": "stream",
     "text": [
      "Hello! Muhammad\n",
      "Hello! Ali\n",
      "Hello! Fatima\n",
      "Hello! Hassan\n",
      "Hello! Hussain\n"
     ]
    }
   ],
   "source": [
    "from typing import Tuple\n",
    "def greet(*names: tuple[str, ...]) -> None:\n",
    "    for name in names:\n",
    "        print(f\"Hello! {name}\")\n",
    "greet('Muhammad', 'Ali', 'Fatima', 'Hassan', 'Hussain')"
   ]
  },
  {
   "attachments": {},
   "cell_type": "markdown",
   "metadata": {},
   "source": [
    "### Recursion Function"
   ]
  },
  {
   "cell_type": "code",
   "execution_count": 93,
   "metadata": {},
   "outputs": [
    {
     "name": "stdout",
     "output_type": "stream",
     "text": [
      "Factorial of 5 is 120\n"
     ]
    }
   ],
   "source": [
    "def factorial(x: int) -> int:\n",
    "    if x == 1:\n",
    "        return 1\n",
    "    else:\n",
    "        return(x*factorial(x-1))\n",
    "num = 5\n",
    "print(f\"Factorial of {num} is {factorial(num)}\")"
   ]
  },
  {
   "attachments": {},
   "cell_type": "markdown",
   "metadata": {},
   "source": [
    "### Decorator Function"
   ]
  },
  {
   "cell_type": "code",
   "execution_count": 99,
   "metadata": {},
   "outputs": [
    {
     "name": "stdout",
     "output_type": "stream",
     "text": [
      "Before function is called\n",
      "Hello\n",
      "After function is called\n"
     ]
    }
   ],
   "source": [
    "from typing import Callable\n",
    "def decorator(func: Callable[[], None]) -> Callable[[], None]:\n",
    "    def wrapper() -> None:\n",
    "        print(\"Before function is called\")\n",
    "        func()\n",
    "        print(\"After function is called\")\n",
    "    return wrapper\n",
    "@decorator\n",
    "def say_hello() -> None:\n",
    "    print(\"Hello\")\n",
    "say_hello()"
   ]
  },
  {
   "cell_type": "code",
   "execution_count": 102,
   "metadata": {},
   "outputs": [
    {
     "name": "stdout",
     "output_type": "stream",
     "text": [
      "Before function is called\n",
      "Number called: 100\n",
      "After function is called\n"
     ]
    }
   ],
   "source": [
    "from typing import Callable\n",
    "def decorator(func: Callable[[int], None]) -> Callable[[int], None]:\n",
    "    def wrapper(num: int) -> None:\n",
    "        print(\"Before function is called\")\n",
    "        func(num)\n",
    "        print(\"After function is called\")\n",
    "    return wrapper\n",
    "@decorator\n",
    "def say_hello(num: int) -> None:\n",
    "    print(f\"Number called: {num}\")\n",
    "say_hello(100)"
   ]
  }
 ],
 "metadata": {
  "kernelspec": {
   "display_name": "python12",
   "language": "python",
   "name": "python3"
  },
  "language_info": {
   "codemirror_mode": {
    "name": "ipython",
    "version": 3
   },
   "file_extension": ".py",
   "mimetype": "text/x-python",
   "name": "python",
   "nbconvert_exporter": "python",
   "pygments_lexer": "ipython3",
   "version": "3.12.0"
  },
  "orig_nbformat": 4
 },
 "nbformat": 4,
 "nbformat_minor": 2
}
