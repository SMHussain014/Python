{
 "cells": [
  {
   "attachments": {},
   "cell_type": "markdown",
   "metadata": {},
   "source": [
    "# Loop\n",
    "* for loop\n",
    "* while loop\n",
    "# controls\n",
    "* break\n",
    "* continue\n",
    "* pass\n",
    "# loop works on\n",
    "* string\n",
    "* list\n",
    "* dictionary\n",
    "* tuple\n",
    "* set\n",
    "* Its output will be string\n",
    "* no iteration on int, float can be performed\n",
    "# input\n",
    "* input from user: by input function\n",
    "* default type: string\n",
    "* input from user: from sys.argv for console (only for abc.py file)\n",
    "* default type: str\n",
    "* you have to import sys, print(sys.argv)\n",
    "* to run, type in console, python file_name.py desired_data "
   ]
  },
  {
   "cell_type": "code",
   "execution_count": 1,
   "metadata": {},
   "outputs": [
    {
     "name": "stdout",
     "output_type": "stream",
     "text": [
      "Counting Number: 1\n",
      "Counting Number: 2\n",
      "Counting Number: 3\n",
      "Counting Number: 4\n",
      "Counting Number: 5\n",
      "Counting Number: 6\n",
      "Counting Number: 7\n"
     ]
    }
   ],
   "source": [
    "list_data: list[int] = [1, 2, 3, 4, 5, 6, 7]\n",
    "for n in list_data:\n",
    "    print(f\"Counting Number: {n}\")"
   ]
  },
  {
   "cell_type": "code",
   "execution_count": 9,
   "metadata": {},
   "outputs": [
    {
     "name": "stdout",
     "output_type": "stream",
     "text": [
      "Counting Number: 1\n",
      "Counting Number: 2\n",
      "Counting Number: 3\n",
      "Counting Number: 4\n",
      "Counting Number: 5\n",
      "Counting Number: 6\n",
      "Counting Number: 7\n"
     ]
    }
   ],
   "source": [
    "tuple_data: tuple[int] = (1, 2, 3, 4, 5, 6, 7)\n",
    "for n in tuple_data:\n",
    "    print(f\"Counting Number: {n}\")"
   ]
  },
  {
   "cell_type": "code",
   "execution_count": 10,
   "metadata": {},
   "outputs": [
    {
     "name": "stdout",
     "output_type": "stream",
     "text": [
      "Count Character: P\n",
      "Count Character: a\n",
      "Count Character: k\n",
      "Count Character: i\n",
      "Count Character: s\n",
      "Count Character: t\n",
      "Count Character: a\n",
      "Count Character: n\n"
     ]
    }
   ],
   "source": [
    "str_data: str = \"Pakistan\"\n",
    "for c in str_data:\n",
    "    print(f\"Count Character: {c}\")"
   ]
  },
  {
   "cell_type": "code",
   "execution_count": 13,
   "metadata": {},
   "outputs": [
    {
     "name": "stdout",
     "output_type": "stream",
     "text": [
      "Key is: name and\n",
      " The Value is: Syed Muhammad Hussain\n",
      "Key is: fname and\n",
      " The Value is: Syed Zahoor Ahmed\n",
      "Key is: country and\n",
      " The Value is: Pakistan\n"
     ]
    }
   ],
   "source": [
    "dict_data: dict[str, str] = {\"name\": \"Syed Muhammad Hussain\", \"fname\": \"Syed Zahoor Ahmed\", \"country\": \"Pakistan\"}\n",
    "for k in dict_data:\n",
    "    print(f\"Key is: {k} and\\n The Value is: {dict_data[k]}\")"
   ]
  },
  {
   "cell_type": "code",
   "execution_count": 21,
   "metadata": {},
   "outputs": [
    {
     "name": "stdout",
     "output_type": "stream",
     "text": [
      "Unique Number: 1\n",
      "Unique Number: 2\n",
      "Unique Number: 3\n",
      "Unique Number: 4\n",
      "Unique Number: 5\n",
      "Unique Number: 6\n",
      "Unique Number: 7\n"
     ]
    }
   ],
   "source": [
    "set_data: set[int] = {1, 2, 2, 2, 3, 3, 4, 4, 5, 6, 6, 7, 7, 7, 7, 7}\n",
    "for n in set_data:\n",
    "    print(f\"Unique Number: {n}\")"
   ]
  },
  {
   "cell_type": "code",
   "execution_count": 20,
   "metadata": {},
   "outputs": [
    {
     "name": "stdout",
     "output_type": "stream",
     "text": [
      "Welcome, Mr. Syed Muhammad Hussain\n"
     ]
    }
   ],
   "source": [
    "name: str = input(\"Please enter your name: \")\n",
    "print(f\"Welcome, Mr. {name}\")"
   ]
  },
  {
   "cell_type": "code",
   "execution_count": 30,
   "metadata": {},
   "outputs": [
    {
     "name": "stdout",
     "output_type": "stream",
     "text": [
      "Welcome! Dear a S/o b, Your age is: c.\n",
      "Welcome! Dear x S/o y, Your age is: z.\n",
      "Welcome! Dear 1 S/o 2, Your age is: 3.\n"
     ]
    }
   ],
   "source": [
    "names: list[str] = ['a', 'b', 'c']\n",
    "fnames: list[str] = ['x', 'y', 'z']\n",
    "age: list[int] = [1, 2, 3]\n",
    "list(zip(names, fnames, age))\n",
    "# in python file print function is required.\n",
    "for n, fn, a in names, fnames, age:\n",
    "    print(f\"Welcome! Dear {n} S/o {fn}, Your age is: {a}.\")"
   ]
  },
  {
   "cell_type": "code",
   "execution_count": 2,
   "metadata": {},
   "outputs": [
    {
     "name": "stdout",
     "output_type": "stream",
     "text": [
      "Counting Number: 1\n",
      "Counting Number: 2\n",
      "Counting Number: 3\n",
      "Counting Number: 4\n",
      "Counting Number: 5\n",
      "Counting Number: 6\n",
      "Counting Number: 7\n",
      "Counting Number: 8\n",
      "Counting Number: 9\n",
      "Counting Number: 10\n"
     ]
    }
   ],
   "source": [
    "flag: bool = True\n",
    "i = 1\n",
    "while flag:\n",
    "    print(f\"Counting Number: {i}\")\n",
    "    i += 1\n",
    "    if i == 11:\n",
    "        break"
   ]
  },
  {
   "cell_type": "code",
   "execution_count": 5,
   "metadata": {},
   "outputs": [
    {
     "name": "stdout",
     "output_type": "stream",
     "text": [
      "Index No. is: 0 and respective value is: 100\n",
      "Index No. is: 1 and respective value is: 200\n",
      "Index No. is: 2 and respective value is: 300\n"
     ]
    }
   ],
   "source": [
    "list_data: list[int] = [100, 200, 300]\n",
    "index: int = 0\n",
    "while index < len(list_data):\n",
    "    print(f\"Index No. is: {index} and respective value is: {list_data[index]}\")\n",
    "    index += 1"
   ]
  },
  {
   "cell_type": "code",
   "execution_count": 20,
   "metadata": {},
   "outputs": [
    {
     "name": "stdout",
     "output_type": "stream",
     "text": [
      "Kindly write 'exit' to stop this program!\n",
      "Kindly write 'exit' to stop this program!\n",
      "Kindly write 'exit' to stop this program!\n",
      "Kindly write 'exit' to stop this program!\n",
      "[{'name': 'Hussain', 'fname': 'Ali', 'age': '63'}, {'name': 'Hassan', 'fname': 'Ali', 'age': '54'}, {'name': 'Zainab', 'fname': 'Ali', 'age': '68'}]\n"
     ]
    }
   ],
   "source": [
    "data_bank: list[dict[str, str, str]] = []\n",
    "flag: bool = True\n",
    "while flag:\n",
    "    print(\"Kindly write 'exit' to stop this program!\")\n",
    "    name = input(\"Please enter your name: \")\n",
    "    fname = input(\"Please enter your father's name: \")\n",
    "    age = input(\"Please enter your age: \") # int(input(Your message: )) type casting\n",
    "    data: list[str] = ['exit', 'quite', 'stop', 'end']\n",
    "    if name in data or fname in data or age in data:\n",
    "        flag = False\n",
    "        break\n",
    "    data_bank.append({\"name\": name, \"fname\": fname, \"age\": age})\n",
    "print(data_bank)"
   ]
  },
  {
   "cell_type": "code",
   "execution_count": 12,
   "metadata": {},
   "outputs": [
    {
     "name": "stdout",
     "output_type": "stream",
     "text": [
      "1\n",
      "2\n",
      "3\n",
      "4\n",
      "5\n"
     ]
    }
   ],
   "source": [
    "for i in range(1, 11):\n",
    "    if i == 6:\n",
    "        break\n",
    "    print(i)"
   ]
  },
  {
   "cell_type": "code",
   "execution_count": 14,
   "metadata": {},
   "outputs": [
    {
     "name": "stdout",
     "output_type": "stream",
     "text": [
      "2\n",
      "4\n",
      "6\n",
      "8\n",
      "10\n"
     ]
    }
   ],
   "source": [
    "for i in range(1, 11):\n",
    "    if i % 2 != 0:\n",
    "        continue\n",
    "    print(i)"
   ]
  }
 ],
 "metadata": {
  "kernelspec": {
   "display_name": "python12",
   "language": "python",
   "name": "python3"
  },
  "language_info": {
   "codemirror_mode": {
    "name": "ipython",
    "version": 3
   },
   "file_extension": ".py",
   "mimetype": "text/x-python",
   "name": "python",
   "nbconvert_exporter": "python",
   "pygments_lexer": "ipython3",
   "version": "3.12.0"
  },
  "orig_nbformat": 4
 },
 "nbformat": 4,
 "nbformat_minor": 2
}
